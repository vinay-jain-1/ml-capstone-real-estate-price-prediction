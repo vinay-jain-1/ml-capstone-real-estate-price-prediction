{
 "cells": [
  {
   "cell_type": "markdown",
   "metadata": {},
   "source": [
    "<table style=\"border-collapse: collapse;\">\n",
    "  <tr>\n",
    "    <td style=\"text-align: left; border: none;\">\n",
    "      <h1 style=\"font-weight: bold;\">California Real Estate Price Prediction</h1>\n",
    "      <p>Using real estate listings collected in the first 6 months in 2021</p>\n",
    "    </td>\n",
    "    <td style=\"border: none;\">\n",
    "      <img src=\"images/dataset-cover.jpg\" alt=\"Dataset Cover\">\n",
    "    </td>\n",
    "  </tr>\n",
    "</table>"
   ]
  },
  {
   "cell_type": "markdown",
   "metadata": {},
   "source": [
    "\n",
    "\n",
    "# Exploratory Data Analysis Notebook\n",
    "\n",
    "### Dataset is from Kaggle: https://www.kaggle.com/datasets/yellowj4acket/real-estate-california/data \n",
    "This dataset shows real estate listing for California (US) for the first 6 months of 2021. Prices are listed in USD."
   ]
  },
  {
   "cell_type": "code",
   "execution_count": 1,
   "metadata": {},
   "outputs": [],
   "source": [
    "import pandas as pd\n",
    "import numpy as np\n",
    "import matplotlib.pyplot as plt\n",
    "import seaborn as sns\n",
    "\n",
    "# Load the dataset\n",
    "df_orig = pd.read_csv('data/RealEstate_California.csv')\n",
    "\n",
    "# Make a copy of the dataset on which we can do all the column removals and data cleaning\n",
    "df = pd.read_csv('data/RealEstate_California.csv')"
   ]
  },
  {
   "cell_type": "code",
   "execution_count": 2,
   "metadata": {},
   "outputs": [],
   "source": [
    "# Allow the entire width of the dataframe to be displayed\n",
    "pd.set_option('display.max_colwidth', None)"
   ]
  },
  {
   "cell_type": "code",
   "execution_count": 3,
   "metadata": {},
   "outputs": [
    {
     "data": {
      "text/html": [
       "<div>\n",
       "<style scoped>\n",
       "    .dataframe tbody tr th:only-of-type {\n",
       "        vertical-align: middle;\n",
       "    }\n",
       "\n",
       "    .dataframe tbody tr th {\n",
       "        vertical-align: top;\n",
       "    }\n",
       "\n",
       "    .dataframe thead th {\n",
       "        text-align: right;\n",
       "    }\n",
       "</style>\n",
       "<table border=\"1\" class=\"dataframe\">\n",
       "  <thead>\n",
       "    <tr style=\"text-align: right;\">\n",
       "      <th></th>\n",
       "      <th>sequence</th>\n",
       "      <th>id</th>\n",
       "      <th>stateId</th>\n",
       "      <th>countyId</th>\n",
       "      <th>cityId</th>\n",
       "      <th>country</th>\n",
       "      <th>datePostedString</th>\n",
       "      <th>is_bankOwned</th>\n",
       "      <th>is_forAuction</th>\n",
       "      <th>event</th>\n",
       "      <th>...</th>\n",
       "      <th>parking</th>\n",
       "      <th>garageSpaces</th>\n",
       "      <th>hasGarage</th>\n",
       "      <th>levels</th>\n",
       "      <th>pool</th>\n",
       "      <th>spa</th>\n",
       "      <th>isNewConstruction</th>\n",
       "      <th>hasPetsAllowed</th>\n",
       "      <th>homeType</th>\n",
       "      <th>county</th>\n",
       "    </tr>\n",
       "  </thead>\n",
       "  <tbody>\n",
       "    <tr>\n",
       "      <th>0</th>\n",
       "      <td>0</td>\n",
       "      <td>95717-2087851113</td>\n",
       "      <td>9</td>\n",
       "      <td>77</td>\n",
       "      <td>24895</td>\n",
       "      <td>USA</td>\n",
       "      <td>2021-01-13</td>\n",
       "      <td>0</td>\n",
       "      <td>0</td>\n",
       "      <td>Listed for sale</td>\n",
       "      <td>...</td>\n",
       "      <td>0</td>\n",
       "      <td>0.0</td>\n",
       "      <td>0</td>\n",
       "      <td>0</td>\n",
       "      <td>0</td>\n",
       "      <td>0</td>\n",
       "      <td>0</td>\n",
       "      <td>0</td>\n",
       "      <td>LOT</td>\n",
       "      <td>Placer County</td>\n",
       "    </tr>\n",
       "    <tr>\n",
       "      <th>1</th>\n",
       "      <td>1</td>\n",
       "      <td>94564-18496265</td>\n",
       "      <td>9</td>\n",
       "      <td>189</td>\n",
       "      <td>36958</td>\n",
       "      <td>USA</td>\n",
       "      <td>2021-07-12</td>\n",
       "      <td>0</td>\n",
       "      <td>0</td>\n",
       "      <td>Listed for sale</td>\n",
       "      <td>...</td>\n",
       "      <td>1</td>\n",
       "      <td>2.0</td>\n",
       "      <td>1</td>\n",
       "      <td>One Story</td>\n",
       "      <td>0</td>\n",
       "      <td>0</td>\n",
       "      <td>0</td>\n",
       "      <td>0</td>\n",
       "      <td>SINGLE_FAMILY</td>\n",
       "      <td>Contra Costa County</td>\n",
       "    </tr>\n",
       "    <tr>\n",
       "      <th>2</th>\n",
       "      <td>2</td>\n",
       "      <td>94564-18484475</td>\n",
       "      <td>9</td>\n",
       "      <td>190</td>\n",
       "      <td>36958</td>\n",
       "      <td>USA</td>\n",
       "      <td>2021-07-08</td>\n",
       "      <td>0</td>\n",
       "      <td>0</td>\n",
       "      <td>Listed for sale</td>\n",
       "      <td>...</td>\n",
       "      <td>1</td>\n",
       "      <td>2.0</td>\n",
       "      <td>1</td>\n",
       "      <td>One Story</td>\n",
       "      <td>0</td>\n",
       "      <td>0</td>\n",
       "      <td>0</td>\n",
       "      <td>0</td>\n",
       "      <td>SINGLE_FAMILY</td>\n",
       "      <td>Contra Costa County</td>\n",
       "    </tr>\n",
       "    <tr>\n",
       "      <th>3</th>\n",
       "      <td>3</td>\n",
       "      <td>94564-18494835</td>\n",
       "      <td>9</td>\n",
       "      <td>191</td>\n",
       "      <td>36958</td>\n",
       "      <td>USA</td>\n",
       "      <td>2021-07-07</td>\n",
       "      <td>0</td>\n",
       "      <td>0</td>\n",
       "      <td>Listed for sale</td>\n",
       "      <td>...</td>\n",
       "      <td>1</td>\n",
       "      <td>1.0</td>\n",
       "      <td>1</td>\n",
       "      <td>Two Story</td>\n",
       "      <td>0</td>\n",
       "      <td>1</td>\n",
       "      <td>0</td>\n",
       "      <td>0</td>\n",
       "      <td>SINGLE_FAMILY</td>\n",
       "      <td>Contra Costa County</td>\n",
       "    </tr>\n",
       "    <tr>\n",
       "      <th>4</th>\n",
       "      <td>4</td>\n",
       "      <td>94564-2069722747</td>\n",
       "      <td>9</td>\n",
       "      <td>192</td>\n",
       "      <td>36958</td>\n",
       "      <td>USA</td>\n",
       "      <td>2021-07-07</td>\n",
       "      <td>0</td>\n",
       "      <td>0</td>\n",
       "      <td>Listed for sale</td>\n",
       "      <td>...</td>\n",
       "      <td>0</td>\n",
       "      <td>0.0</td>\n",
       "      <td>0</td>\n",
       "      <td>0</td>\n",
       "      <td>0</td>\n",
       "      <td>0</td>\n",
       "      <td>0</td>\n",
       "      <td>0</td>\n",
       "      <td>LOT</td>\n",
       "      <td>Contra Costa County</td>\n",
       "    </tr>\n",
       "  </tbody>\n",
       "</table>\n",
       "<p>5 rows × 39 columns</p>\n",
       "</div>"
      ],
      "text/plain": [
       "   sequence                id  stateId  countyId  cityId country  \\\n",
       "0         0  95717-2087851113        9        77   24895     USA   \n",
       "1         1    94564-18496265        9       189   36958     USA   \n",
       "2         2    94564-18484475        9       190   36958     USA   \n",
       "3         3    94564-18494835        9       191   36958     USA   \n",
       "4         4  94564-2069722747        9       192   36958     USA   \n",
       "\n",
       "  datePostedString  is_bankOwned  is_forAuction            event  ...  \\\n",
       "0       2021-01-13             0              0  Listed for sale  ...   \n",
       "1       2021-07-12             0              0  Listed for sale  ...   \n",
       "2       2021-07-08             0              0  Listed for sale  ...   \n",
       "3       2021-07-07             0              0  Listed for sale  ...   \n",
       "4       2021-07-07             0              0  Listed for sale  ...   \n",
       "\n",
       "   parking  garageSpaces  hasGarage     levels pool  spa isNewConstruction  \\\n",
       "0        0           0.0          0          0    0    0                 0   \n",
       "1        1           2.0          1  One Story    0    0                 0   \n",
       "2        1           2.0          1  One Story    0    0                 0   \n",
       "3        1           1.0          1  Two Story    0    1                 0   \n",
       "4        0           0.0          0          0    0    0                 0   \n",
       "\n",
       "   hasPetsAllowed       homeType               county  \n",
       "0               0            LOT        Placer County  \n",
       "1               0  SINGLE_FAMILY  Contra Costa County  \n",
       "2               0  SINGLE_FAMILY  Contra Costa County  \n",
       "3               0  SINGLE_FAMILY  Contra Costa County  \n",
       "4               0            LOT  Contra Costa County  \n",
       "\n",
       "[5 rows x 39 columns]"
      ]
     },
     "execution_count": 3,
     "metadata": {},
     "output_type": "execute_result"
    }
   ],
   "source": [
    "# Display the first 5 rows\n",
    "df.head()"
   ]
  },
  {
   "cell_type": "code",
   "execution_count": 4,
   "metadata": {},
   "outputs": [
    {
     "name": "stdout",
     "output_type": "stream",
     "text": [
      "<class 'pandas.core.frame.DataFrame'>\n",
      "RangeIndex: 35389 entries, 0 to 35388\n",
      "Data columns (total 39 columns):\n",
      " #   Column              Non-Null Count  Dtype  \n",
      "---  ------              --------------  -----  \n",
      " 0   sequence            35389 non-null  int64  \n",
      " 1   id                  35389 non-null  object \n",
      " 2   stateId             35389 non-null  int64  \n",
      " 3   countyId            35389 non-null  int64  \n",
      " 4   cityId              35389 non-null  int64  \n",
      " 5   country             35389 non-null  object \n",
      " 6   datePostedString    35386 non-null  object \n",
      " 7   is_bankOwned        35389 non-null  int64  \n",
      " 8   is_forAuction       35389 non-null  int64  \n",
      " 9   event               35100 non-null  object \n",
      " 10  time                35100 non-null  float64\n",
      " 11  price               35389 non-null  float64\n",
      " 12  pricePerSquareFoot  35389 non-null  float64\n",
      " 13  city                35389 non-null  object \n",
      " 14  state               35389 non-null  object \n",
      " 15  yearBuilt           35389 non-null  int64  \n",
      " 16  streetAddress       35388 non-null  object \n",
      " 17  zipcode             35364 non-null  float64\n",
      " 18  longitude           35389 non-null  float64\n",
      " 19  latitude            35389 non-null  float64\n",
      " 20  hasBadGeocode       35389 non-null  int64  \n",
      " 21  description         35110 non-null  object \n",
      " 22  currency            35389 non-null  object \n",
      " 23  livingArea          35389 non-null  float64\n",
      " 24  livingAreaValue     35389 non-null  float64\n",
      " 25  lotAreaUnits        35389 non-null  object \n",
      " 26  bathrooms           35389 non-null  float64\n",
      " 27  bedrooms            35389 non-null  float64\n",
      " 28  buildingArea        35389 non-null  float64\n",
      " 29  parking             35389 non-null  int64  \n",
      " 30  garageSpaces        35389 non-null  float64\n",
      " 31  hasGarage           35389 non-null  int64  \n",
      " 32  levels              35389 non-null  object \n",
      " 33  pool                35389 non-null  int64  \n",
      " 34  spa                 35389 non-null  int64  \n",
      " 35  isNewConstruction   35389 non-null  int64  \n",
      " 36  hasPetsAllowed      35389 non-null  int64  \n",
      " 37  homeType            35389 non-null  object \n",
      " 38  county              35389 non-null  object \n",
      "dtypes: float64(12), int64(14), object(13)\n",
      "memory usage: 10.5+ MB\n"
     ]
    }
   ],
   "source": [
    "df.info()"
   ]
  },
  {
   "cell_type": "markdown",
   "metadata": {},
   "source": [
    "### There are a total of 35,389 records with 39 columns.\n",
    "Let's start with dropping the columns that are not useful for analysis"
   ]
  },
  {
   "cell_type": "markdown",
   "metadata": {},
   "source": [
    "### Columns to be dropped"
   ]
  },
  {
   "cell_type": "code",
   "execution_count": 5,
   "metadata": {},
   "outputs": [],
   "source": [
    "#Sequence, id are not useful for the analysis so we can drop them\n",
    "df.drop(['sequence', 'id'], axis=1, inplace=True)\n",
    "\n",
    "#stateId and state will never change since the data is only from California so we can drop it\n",
    "df.drop(['stateId', 'state'], axis=1, inplace=True)\n",
    "\n",
    "#drop the 'city' columns since we have 'cityid'\n",
    "df.drop('city', axis=1, inplace=True)\n",
    "\n",
    "#drop the 'county' columns since we have 'countyId'\n",
    "df.drop('county', axis=1, inplace=True)\n",
    "\n",
    "#country will never change since the data is only from USA so we can drop it\n",
    "df.drop('country', axis=1, inplace=True)\n",
    "\n",
    "#time of listing is not likely to drive the sale price so we can drop it\n",
    "df.drop('time', axis=1, inplace=True)\n",
    "\n",
    "#streetAddress is too detailed to perform the analysis so we can drop it\n",
    "df.drop('streetAddress', axis=1, inplace=True)\n",
    "\n",
    "#latitude and longitude are not needed since we have city and zip code information that will be more useful\n",
    "df.drop(['latitude', 'longitude'], axis=1, inplace=True)\n",
    "\n",
    "#description is too detailed to perform the analysis so we can drop it (NLP analysis can be done on this column if desired. But we will leave it out for now. We can include it in future if high accuracy is not achieved).\n",
    "#df.drop('description', axis=1, inplace=True)\n",
    "\n",
    "#currency column has only one value (USD) so we can drop it\n",
    "df.drop('currency', axis=1, inplace=True)"
   ]
  },
  {
   "cell_type": "markdown",
   "metadata": {},
   "source": [
    "#### Analysis checkpoint 1 (Drop columns that are apparent for not being used for price prediction):\n",
    "<pre>\n",
    " 0   sequence            35389 non-null  int64    x   Drop column\n",
    " 1   id                  35389 non-null  object   x   Drop column\n",
    " 2   stateId             35389 non-null  int64    x   Drop column\n",
    " 3   countyId            35389 non-null  int64    x   Retain as-is\n",
    " 4   cityId              35389 non-null  int64    x   Retain as-is\n",
    " 5   country             35389 non-null  object   x   Drop column\n",
    " 6   datePostedString    35386 non-null  object \n",
    " 7   is_bankOwned        35389 non-null  int64  \n",
    " 8   is_forAuction       35389 non-null  int64  \n",
    " 9   event               35100 non-null  object \n",
    " 10  time                35100 non-null  float64  x   Drop column\n",
    " 11  price               35389 non-null  float64\n",
    " 12  pricePerSquareFoot  35389 non-null  float64\n",
    " 13  city                35389 non-null  object   x   Drop column\n",
    " 14  state               35389 non-null  object   x   Drop column\n",
    " 15  yearBuilt           35389 non-null  int64  \n",
    " 16  streetAddress       35388 non-null  object   x   Drop column\n",
    " 17  zipcode             35364 non-null  float64\n",
    " 18  longitude           35389 non-null  float64  x   Drop column\n",
    " 19  latitude            35389 non-null  float64  x   Drop column\n",
    " 20  hasBadGeocode       35389 non-null  int64  \n",
    " 21  description         35110 non-null  object   x   Drop column\n",
    " 22  currency            35389 non-null  object   x   Drop column\n",
    " 23  livingArea          35389 non-null  float64\n",
    " 24  livingAreaValue     35389 non-null  float64\n",
    " 25  lotAreaUnits        35389 non-null  object \n",
    " 26  bathrooms           35389 non-null  float64\n",
    " 27  bedrooms            35389 non-null  float64\n",
    " 28  buildingArea        35389 non-null  float64\n",
    " 29  parking             35389 non-null  int64  \n",
    " 30  garageSpaces        35389 non-null  float64\n",
    " 31  hasGarage           35389 non-null  int64  \n",
    " 32  levels              35389 non-null  object \n",
    " 33  pool                35389 non-null  int64  \n",
    " 34  spa                 35389 non-null  int64  \n",
    " 35  isNewConstruction   35389 non-null  int64  \n",
    " 36  hasPetsAllowed      35389 non-null  int64  \n",
    " 37  homeType            35389 non-null  object \n",
    " 38  county              35389 non-null  object   x   Drop column\n",
    " </pre>"
   ]
  },
  {
   "cell_type": "markdown",
   "metadata": {},
   "source": [
    "### Analyze the target ('price') column"
   ]
  },
  {
   "cell_type": "code",
   "execution_count": 6,
   "metadata": {},
   "outputs": [
    {
     "data": {
      "text/plain": [
       "price\n",
       "0.0      319\n",
       "1.0        1\n",
       "650.0      2\n",
       "750.0      1\n",
       "850.0      1\n",
       "Name: count, dtype: int64"
      ]
     },
     "execution_count": 6,
     "metadata": {},
     "output_type": "execute_result"
    }
   ],
   "source": [
    "#Identify value counts for price and print the first few price values in ascending order\n",
    "df['price'].value_counts().sort_index().head()"
   ]
  },
  {
   "cell_type": "code",
   "execution_count": 7,
   "metadata": {},
   "outputs": [
    {
     "data": {
      "text/html": [
       "<div>\n",
       "<style scoped>\n",
       "    .dataframe tbody tr th:only-of-type {\n",
       "        vertical-align: middle;\n",
       "    }\n",
       "\n",
       "    .dataframe tbody tr th {\n",
       "        vertical-align: top;\n",
       "    }\n",
       "\n",
       "    .dataframe thead th {\n",
       "        text-align: right;\n",
       "    }\n",
       "</style>\n",
       "<table border=\"1\" class=\"dataframe\">\n",
       "  <thead>\n",
       "    <tr style=\"text-align: right;\">\n",
       "      <th></th>\n",
       "      <th>price</th>\n",
       "      <th>event</th>\n",
       "      <th>homeType</th>\n",
       "    </tr>\n",
       "  </thead>\n",
       "  <tbody>\n",
       "    <tr>\n",
       "      <th>23108</th>\n",
       "      <td>1.0</td>\n",
       "      <td>Listed for sale</td>\n",
       "      <td>LOT</td>\n",
       "    </tr>\n",
       "    <tr>\n",
       "      <th>8056</th>\n",
       "      <td>650.0</td>\n",
       "      <td>Listing removed</td>\n",
       "      <td>SINGLE_FAMILY</td>\n",
       "    </tr>\n",
       "    <tr>\n",
       "      <th>32952</th>\n",
       "      <td>650.0</td>\n",
       "      <td>Listing removed</td>\n",
       "      <td>SINGLE_FAMILY</td>\n",
       "    </tr>\n",
       "    <tr>\n",
       "      <th>24874</th>\n",
       "      <td>750.0</td>\n",
       "      <td>Listing removed</td>\n",
       "      <td>CONDO</td>\n",
       "    </tr>\n",
       "    <tr>\n",
       "      <th>9896</th>\n",
       "      <td>850.0</td>\n",
       "      <td>Listing removed</td>\n",
       "      <td>SINGLE_FAMILY</td>\n",
       "    </tr>\n",
       "  </tbody>\n",
       "</table>\n",
       "</div>"
      ],
      "text/plain": [
       "       price            event       homeType\n",
       "23108    1.0  Listed for sale            LOT\n",
       "8056   650.0  Listing removed  SINGLE_FAMILY\n",
       "32952  650.0  Listing removed  SINGLE_FAMILY\n",
       "24874  750.0  Listing removed          CONDO\n",
       "9896   850.0  Listing removed  SINGLE_FAMILY"
      ]
     },
     "execution_count": 7,
     "metadata": {},
     "output_type": "execute_result"
    }
   ],
   "source": [
    "#Prices for houses are typically never in low values (especially in California). \n",
    "# Let's identify what the 'price' and 'description' contains for the prices for the first few records that are organized in the ascending order of price where price is not 0.\n",
    "df.loc[df['price'] > 0, ['price', 'event', 'homeType']].sort_values('price').head()"
   ]
  },
  {
   "cell_type": "code",
   "execution_count": 8,
   "metadata": {},
   "outputs": [
    {
     "data": {
      "text/plain": [
       "event\n",
       "Listed for sale    24622\n",
       "Price change        4893\n",
       "Listing removed     4311\n",
       "Sold                1268\n",
       "Listed for rent        5\n",
       "Pending sale           1\n",
       "Name: count, dtype: int64"
      ]
     },
     "execution_count": 8,
     "metadata": {},
     "output_type": "execute_result"
    }
   ],
   "source": [
    "# The 'event' seems to contain values like 'Listing removed'. Let's identify the value counts in the 'event' column so we know if we need to drop any rows.\n",
    "df['event'].value_counts()"
   ]
  },
  {
   "cell_type": "code",
   "execution_count": 9,
   "metadata": {},
   "outputs": [],
   "source": [
    "# We can drop the rows where the 'event' is 'Listing removed' since the house is not available for sale anymore. Same goes for 'Listed for rent'. We are only interested in the houses that are available for sale.\n",
    "df = df.loc[(df['event'] != 'Listing removed') & (df['event'] != 'Listed for rent')]"
   ]
  },
  {
   "cell_type": "markdown",
   "metadata": {},
   "source": [
    "#### Analyze 'homeType' column"
   ]
  },
  {
   "cell_type": "code",
   "execution_count": 10,
   "metadata": {},
   "outputs": [
    {
     "data": {
      "text/plain": [
       "homeType\n",
       "SINGLE_FAMILY    20638\n",
       "LOT               4237\n",
       "CONDO             3170\n",
       "MULTI_FAMILY      1913\n",
       "TOWNHOUSE         1114\n",
       "APARTMENT            1\n",
       "Name: count, dtype: int64"
      ]
     },
     "execution_count": 10,
     "metadata": {},
     "output_type": "execute_result"
    }
   ],
   "source": [
    "# Let's identify the value counts in the 'homeType' column so we know if we need to drop any rows.\n",
    "df['homeType'].value_counts()"
   ]
  },
  {
   "cell_type": "markdown",
   "metadata": {},
   "source": [
    "#### We will focus only on the 'homeType' column value of 'SINGLE_FAMILY'"
   ]
  },
  {
   "cell_type": "markdown",
   "metadata": {},
   "source": [
    "#### Based on the above analysis related to price, the following types of records will be dropped:\n",
    "1. 'price'=0\n",
    "2. 'event'='Listing removed' OR 'event'='Listed for rent'\n",
    "3. 'homeType'!='SINGLE_FAMILY'"
   ]
  },
  {
   "cell_type": "code",
   "execution_count": 11,
   "metadata": {},
   "outputs": [],
   "source": [
    "#Drop records where:\n",
    "# 1. 'price'=0 OR\n",
    "# 2. 'event'='Listing removed' OR 'event'='Listed for rent' OR\n",
    "# 3. 'homeType'='SINGLE_FAMILY'\n",
    "df = df.loc[(df['price'] > 0) & (df['event'] != 'Listing removed') & (df['event'] != 'Listed for rent') & (df['homeType'] == 'SINGLE_FAMILY')]\n",
    "\n",
    "df.drop('homeType', axis=1, inplace=True)"
   ]
  },
  {
   "cell_type": "code",
   "execution_count": 12,
   "metadata": {},
   "outputs": [
    {
     "data": {
      "text/html": [
       "<div>\n",
       "<style scoped>\n",
       "    .dataframe tbody tr th:only-of-type {\n",
       "        vertical-align: middle;\n",
       "    }\n",
       "\n",
       "    .dataframe tbody tr th {\n",
       "        vertical-align: top;\n",
       "    }\n",
       "\n",
       "    .dataframe thead th {\n",
       "        text-align: right;\n",
       "    }\n",
       "</style>\n",
       "<table border=\"1\" class=\"dataframe\">\n",
       "  <thead>\n",
       "    <tr style=\"text-align: right;\">\n",
       "      <th></th>\n",
       "      <th>countyId</th>\n",
       "      <th>cityId</th>\n",
       "      <th>datePostedString</th>\n",
       "      <th>is_bankOwned</th>\n",
       "      <th>is_forAuction</th>\n",
       "      <th>event</th>\n",
       "      <th>price</th>\n",
       "      <th>pricePerSquareFoot</th>\n",
       "      <th>yearBuilt</th>\n",
       "      <th>zipcode</th>\n",
       "      <th>...</th>\n",
       "      <th>bedrooms</th>\n",
       "      <th>buildingArea</th>\n",
       "      <th>parking</th>\n",
       "      <th>garageSpaces</th>\n",
       "      <th>hasGarage</th>\n",
       "      <th>levels</th>\n",
       "      <th>pool</th>\n",
       "      <th>spa</th>\n",
       "      <th>isNewConstruction</th>\n",
       "      <th>hasPetsAllowed</th>\n",
       "    </tr>\n",
       "  </thead>\n",
       "  <tbody>\n",
       "    <tr>\n",
       "      <th>12984</th>\n",
       "      <td>165276</td>\n",
       "      <td>16764</td>\n",
       "      <td>2021-05-27</td>\n",
       "      <td>0</td>\n",
       "      <td>0</td>\n",
       "      <td>Sold</td>\n",
       "      <td>5800.0</td>\n",
       "      <td>1.0</td>\n",
       "      <td>1975</td>\n",
       "      <td>92808.0</td>\n",
       "      <td>...</td>\n",
       "      <td>7.0</td>\n",
       "      <td>0.0</td>\n",
       "      <td>1</td>\n",
       "      <td>5.0</td>\n",
       "      <td>1</td>\n",
       "      <td>Three Or More-Multi/Split</td>\n",
       "      <td>1</td>\n",
       "      <td>1</td>\n",
       "      <td>0</td>\n",
       "      <td>0</td>\n",
       "    </tr>\n",
       "    <tr>\n",
       "      <th>34643</th>\n",
       "      <td>121519</td>\n",
       "      <td>33840</td>\n",
       "      <td>2021-07-10</td>\n",
       "      <td>0</td>\n",
       "      <td>0</td>\n",
       "      <td>Sold</td>\n",
       "      <td>7500.0</td>\n",
       "      <td>2.0</td>\n",
       "      <td>1991</td>\n",
       "      <td>92675.0</td>\n",
       "      <td>...</td>\n",
       "      <td>6.0</td>\n",
       "      <td>0.0</td>\n",
       "      <td>1</td>\n",
       "      <td>4.0</td>\n",
       "      <td>1</td>\n",
       "      <td>Two</td>\n",
       "      <td>1</td>\n",
       "      <td>1</td>\n",
       "      <td>0</td>\n",
       "      <td>0</td>\n",
       "    </tr>\n",
       "    <tr>\n",
       "      <th>24714</th>\n",
       "      <td>327763</td>\n",
       "      <td>33840</td>\n",
       "      <td>2021-07-10</td>\n",
       "      <td>0</td>\n",
       "      <td>0</td>\n",
       "      <td>Sold</td>\n",
       "      <td>7500.0</td>\n",
       "      <td>2.0</td>\n",
       "      <td>1991</td>\n",
       "      <td>92675.0</td>\n",
       "      <td>...</td>\n",
       "      <td>6.0</td>\n",
       "      <td>0.0</td>\n",
       "      <td>1</td>\n",
       "      <td>4.0</td>\n",
       "      <td>1</td>\n",
       "      <td>Two</td>\n",
       "      <td>1</td>\n",
       "      <td>1</td>\n",
       "      <td>0</td>\n",
       "      <td>0</td>\n",
       "    </tr>\n",
       "    <tr>\n",
       "      <th>31259</th>\n",
       "      <td>75475</td>\n",
       "      <td>36429</td>\n",
       "      <td>2018-11-09</td>\n",
       "      <td>0</td>\n",
       "      <td>0</td>\n",
       "      <td>Sold</td>\n",
       "      <td>20000.0</td>\n",
       "      <td>16.0</td>\n",
       "      <td>1975</td>\n",
       "      <td>93667.0</td>\n",
       "      <td>...</td>\n",
       "      <td>0.0</td>\n",
       "      <td>0.0</td>\n",
       "      <td>0</td>\n",
       "      <td>0.0</td>\n",
       "      <td>0</td>\n",
       "      <td>0</td>\n",
       "      <td>0</td>\n",
       "      <td>0</td>\n",
       "      <td>0</td>\n",
       "      <td>0</td>\n",
       "    </tr>\n",
       "    <tr>\n",
       "      <th>19093</th>\n",
       "      <td>249862</td>\n",
       "      <td>20172</td>\n",
       "      <td>2021-07-06</td>\n",
       "      <td>0</td>\n",
       "      <td>0</td>\n",
       "      <td>Sold</td>\n",
       "      <td>22000.0</td>\n",
       "      <td>22.0</td>\n",
       "      <td>1959</td>\n",
       "      <td>93555.0</td>\n",
       "      <td>...</td>\n",
       "      <td>3.0</td>\n",
       "      <td>0.0</td>\n",
       "      <td>1</td>\n",
       "      <td>1.0</td>\n",
       "      <td>1</td>\n",
       "      <td>One</td>\n",
       "      <td>0</td>\n",
       "      <td>0</td>\n",
       "      <td>0</td>\n",
       "      <td>0</td>\n",
       "    </tr>\n",
       "  </tbody>\n",
       "</table>\n",
       "<p>5 rows × 26 columns</p>\n",
       "</div>"
      ],
      "text/plain": [
       "       countyId  cityId datePostedString  is_bankOwned  is_forAuction event  \\\n",
       "12984    165276   16764       2021-05-27             0              0  Sold   \n",
       "34643    121519   33840       2021-07-10             0              0  Sold   \n",
       "24714    327763   33840       2021-07-10             0              0  Sold   \n",
       "31259     75475   36429       2018-11-09             0              0  Sold   \n",
       "19093    249862   20172       2021-07-06             0              0  Sold   \n",
       "\n",
       "         price  pricePerSquareFoot  yearBuilt  zipcode  ...  bedrooms  \\\n",
       "12984   5800.0                 1.0       1975  92808.0  ...       7.0   \n",
       "34643   7500.0                 2.0       1991  92675.0  ...       6.0   \n",
       "24714   7500.0                 2.0       1991  92675.0  ...       6.0   \n",
       "31259  20000.0                16.0       1975  93667.0  ...       0.0   \n",
       "19093  22000.0                22.0       1959  93555.0  ...       3.0   \n",
       "\n",
       "      buildingArea  parking  garageSpaces hasGarage  \\\n",
       "12984          0.0        1           5.0         1   \n",
       "34643          0.0        1           4.0         1   \n",
       "24714          0.0        1           4.0         1   \n",
       "31259          0.0        0           0.0         0   \n",
       "19093          0.0        1           1.0         1   \n",
       "\n",
       "                          levels  pool  spa  isNewConstruction  hasPetsAllowed  \n",
       "12984  Three Or More-Multi/Split     1    1                  0               0  \n",
       "34643                        Two     1    1                  0               0  \n",
       "24714                        Two     1    1                  0               0  \n",
       "31259                          0     0    0                  0               0  \n",
       "19093                        One     0    0                  0               0  \n",
       "\n",
       "[5 rows x 26 columns]"
      ]
     },
     "execution_count": 12,
     "metadata": {},
     "output_type": "execute_result"
    }
   ],
   "source": [
    "#print the records in ascending order of price\n",
    "df.sort_values('price').head()"
   ]
  },
  {
   "cell_type": "markdown",
   "metadata": {},
   "source": [
    "#### Analysis checkpoint 2 ('price', 'event', 'homeType'):\n",
    "<pre>\n",
    " 0   sequence            35389 non-null  int64    x   Drop column\n",
    " 1   id                  35389 non-null  object   x   Drop column\n",
    " 2   stateId             35389 non-null  int64    x   Drop column\n",
    " 3   countyId            35389 non-null  int64    x   Retain as-is\n",
    " 4   cityId              35389 non-null  int64    x   Retain as-is\n",
    " 5   country             35389 non-null  object   x   Drop column\n",
    " 6   datePostedString    35386 non-null  object \n",
    " 7   is_bankOwned        35389 non-null  int64  \n",
    " 8   is_forAuction       35389 non-null  int64  \n",
    " 9   event               35100 non-null  object   x   Drop records where 'event'='Listing removed' OR 'event'='Listed for rent'\n",
    " 10  time                35100 non-null  float64  x   Drop column\n",
    " 11  price               35389 non-null  float64  x   Drop records where price=0\n",
    " 12  pricePerSquareFoot  35389 non-null  float64\n",
    " 13  city                35389 non-null  object   x   Drop column\n",
    " 14  state               35389 non-null  object   x   Drop column\n",
    " 15  yearBuilt           35389 non-null  int64  \n",
    " 16  streetAddress       35388 non-null  object   x   Drop column\n",
    " 17  zipcode             35364 non-null  float64\n",
    " 18  longitude           35389 non-null  float64  x   Drop column\n",
    " 19  latitude            35389 non-null  float64  x   Drop column\n",
    " 20  hasBadGeocode       35389 non-null  int64  \n",
    " 21  description         35110 non-null  object   x   Drop column\n",
    " 22  currency            35389 non-null  object   x   Drop column\n",
    " 23  livingArea          35389 non-null  float64\n",
    " 24  livingAreaValue     35389 non-null  float64\n",
    " 25  lotAreaUnits        35389 non-null  object \n",
    " 26  bathrooms           35389 non-null  float64\n",
    " 27  bedrooms            35389 non-null  float64\n",
    " 28  buildingArea        35389 non-null  float64\n",
    " 29  parking             35389 non-null  int64  \n",
    " 30  garageSpaces        35389 non-null  float64\n",
    " 31  hasGarage           35389 non-null  int64  \n",
    " 32  levels              35389 non-null  object \n",
    " 33  pool                35389 non-null  int64  \n",
    " 34  spa                 35389 non-null  int64  \n",
    " 35  isNewConstruction   35389 non-null  int64  \n",
    " 36  hasPetsAllowed      35389 non-null  int64  \n",
    " 37  homeType            35389 non-null  object   x   Retain records where 'homeType'='SINGLE_FAMILY' and then drop this column \n",
    " 38  county              35389 non-null  object   x   Drop column\n",
    " </pre>\n"
   ]
  },
  {
   "cell_type": "markdown",
   "metadata": {},
   "source": [
    "### Analyze 'is_bankOwned' column data"
   ]
  },
  {
   "cell_type": "code",
   "execution_count": 13,
   "metadata": {},
   "outputs": [
    {
     "data": {
      "text/plain": [
       "is_bankOwned\n",
       "0    20369\n",
       "1        3\n",
       "Name: count, dtype: int64"
      ]
     },
     "execution_count": 13,
     "metadata": {},
     "output_type": "execute_result"
    }
   ],
   "source": [
    "#Check on the number of unique values for is_bankOwned and is_forAuction columns\n",
    "df['is_bankOwned'].value_counts()"
   ]
  },
  {
   "cell_type": "markdown",
   "metadata": {},
   "source": [
    "##### Since the 'is_bankOwned' has a value of 1 for only 3 records, these records can be dropped since they are far less records to drive any useful predictions."
   ]
  },
  {
   "cell_type": "markdown",
   "metadata": {},
   "source": [
    "### Analyze 'is_forAuction' column data"
   ]
  },
  {
   "cell_type": "code",
   "execution_count": 14,
   "metadata": {},
   "outputs": [
    {
     "data": {
      "text/plain": [
       "is_forAuction\n",
       "0    20363\n",
       "1        9\n",
       "Name: count, dtype: int64"
      ]
     },
     "execution_count": 14,
     "metadata": {},
     "output_type": "execute_result"
    }
   ],
   "source": [
    "df['is_forAuction'].value_counts()"
   ]
  },
  {
   "cell_type": "markdown",
   "metadata": {},
   "source": [
    "##### Since the 'is_forAuction' has a value of 1 for only 9 records, these records can be dropped since they are far less records to drive any useful predictions."
   ]
  },
  {
   "cell_type": "markdown",
   "metadata": {},
   "source": [
    "### Analyze 'hasBadGeocode' column data"
   ]
  },
  {
   "cell_type": "code",
   "execution_count": 15,
   "metadata": {},
   "outputs": [
    {
     "data": {
      "text/plain": [
       "hasBadGeocode\n",
       "0    20372\n",
       "Name: count, dtype: int64"
      ]
     },
     "execution_count": 15,
     "metadata": {},
     "output_type": "execute_result"
    }
   ],
   "source": [
    "#check number of unique values for hasBadGeocode column\n",
    "df['hasBadGeocode'].value_counts()"
   ]
  },
  {
   "cell_type": "markdown",
   "metadata": {},
   "source": [
    "##### Since the 'hasBadGeocode' has a value of 0 only, no further action is needed for this column."
   ]
  },
  {
   "cell_type": "markdown",
   "metadata": {},
   "source": [
    "#### Records to be dropped:\n",
    "- 'is_bankOwned' with value of 1\n",
    "- 'is_forAuction' with a value of 1\n",
    "- Drop the three columns ('is_bankOwned', 'is_forAuction', 'hasBadGeocode') since they now have value of only 0."
   ]
  },
  {
   "cell_type": "code",
   "execution_count": 16,
   "metadata": {},
   "outputs": [],
   "source": [
    "#Drop records where:\n",
    "# 'is_bankOwned' with value of 1\n",
    "# 'is_forAuction' with a value of 1\n",
    "df = df.loc[(df['is_bankOwned'] == 0) & (df['is_forAuction'] == 0)]\n",
    "\n",
    "#Drop the columns 'is_bankOwned', 'is_forAuction', 'hasBadGeocode' since they have only one value\n",
    "df.drop(['is_bankOwned', 'is_forAuction', 'hasBadGeocode'], axis=1, inplace=True)"
   ]
  },
  {
   "cell_type": "markdown",
   "metadata": {},
   "source": [
    "#### Analysis checkpoint 3 ('is_bankOwned', 'is_forAuction', 'hasBadGeocode'):\n",
    "<pre>\n",
    " 0   sequence            35389 non-null  int64    x   Drop column\n",
    " 1   id                  35389 non-null  object   x   Drop column\n",
    " 2   stateId             35389 non-null  int64    x   Drop column\n",
    " 3   countyId            35389 non-null  int64    x   Retain as-is\n",
    " 4   cityId              35389 non-null  int64    x   Retain as-is\n",
    " 5   country             35389 non-null  object   x   Drop column\n",
    " 6   datePostedString    35386 non-null  object \n",
    " 7   is_bankOwned        35389 non-null  int64    x   Drop records where value is 1 then drop this column\n",
    " 8   is_forAuction       35389 non-null  int64    x   Drop records where value is 1 then drop this column\n",
    " 9   event               35100 non-null  object   x   Drop records where 'event'='Listing removed' OR 'event'='Listed for rent'\n",
    " 10  time                35100 non-null  float64  x   Drop column\n",
    " 11  price               35389 non-null  float64  x   Drop records where price=0\n",
    " 12  pricePerSquareFoot  35389 non-null  float64\n",
    " 13  city                35389 non-null  object   x   Drop column\n",
    " 14  state               35389 non-null  object   x   Drop column\n",
    " 15  yearBuilt           35389 non-null  int64  \n",
    " 16  streetAddress       35388 non-null  object   x   Drop column\n",
    " 17  zipcode             35364 non-null  float64\n",
    " 18  longitude           35389 non-null  float64  x   Drop column\n",
    " 19  latitude            35389 non-null  float64  x   Drop column\n",
    " 20  hasBadGeocode       35389 non-null  int64    x   Drop column\n",
    " 21  description         35110 non-null  object   x   Drop column\n",
    " 22  currency            35389 non-null  object   x   Drop column\n",
    " 23  livingArea          35389 non-null  float64\n",
    " 24  livingAreaValue     35389 non-null  float64\n",
    " 25  lotAreaUnits        35389 non-null  object \n",
    " 26  bathrooms           35389 non-null  float64\n",
    " 27  bedrooms            35389 non-null  float64\n",
    " 28  buildingArea        35389 non-null  float64\n",
    " 29  parking             35389 non-null  int64  \n",
    " 30  garageSpaces        35389 non-null  float64\n",
    " 31  hasGarage           35389 non-null  int64  \n",
    " 32  levels              35389 non-null  object \n",
    " 33  pool                35389 non-null  int64  \n",
    " 34  spa                 35389 non-null  int64  \n",
    " 35  isNewConstruction   35389 non-null  int64  \n",
    " 36  hasPetsAllowed      35389 non-null  int64  \n",
    " 37  homeType            35389 non-null  object   x   Retain records where 'homeType'='SINGLE_FAMILY' and then drop this column \n",
    " 38  county              35389 non-null  object   x   Drop column\n",
    " </pre>"
   ]
  },
  {
   "cell_type": "code",
   "execution_count": 17,
   "metadata": {},
   "outputs": [
    {
     "name": "stdout",
     "output_type": "stream",
     "text": [
      "<class 'pandas.core.frame.DataFrame'>\n",
      "Index: 20360 entries, 1 to 35388\n",
      "Data columns (total 23 columns):\n",
      " #   Column              Non-Null Count  Dtype  \n",
      "---  ------              --------------  -----  \n",
      " 0   countyId            20360 non-null  int64  \n",
      " 1   cityId              20360 non-null  int64  \n",
      " 2   datePostedString    20360 non-null  object \n",
      " 3   event               20360 non-null  object \n",
      " 4   price               20360 non-null  float64\n",
      " 5   pricePerSquareFoot  20360 non-null  float64\n",
      " 6   yearBuilt           20360 non-null  int64  \n",
      " 7   zipcode             20360 non-null  float64\n",
      " 8   description         20259 non-null  object \n",
      " 9   livingArea          20360 non-null  float64\n",
      " 10  livingAreaValue     20360 non-null  float64\n",
      " 11  lotAreaUnits        20360 non-null  object \n",
      " 12  bathrooms           20360 non-null  float64\n",
      " 13  bedrooms            20360 non-null  float64\n",
      " 14  buildingArea        20360 non-null  float64\n",
      " 15  parking             20360 non-null  int64  \n",
      " 16  garageSpaces        20360 non-null  float64\n",
      " 17  hasGarage           20360 non-null  int64  \n",
      " 18  levels              20360 non-null  object \n",
      " 19  pool                20360 non-null  int64  \n",
      " 20  spa                 20360 non-null  int64  \n",
      " 21  isNewConstruction   20360 non-null  int64  \n",
      " 22  hasPetsAllowed      20360 non-null  int64  \n",
      "dtypes: float64(9), int64(9), object(5)\n",
      "memory usage: 3.7+ MB\n"
     ]
    }
   ],
   "source": [
    "df.info()"
   ]
  },
  {
   "cell_type": "markdown",
   "metadata": {},
   "source": [
    "#### Analyze the bathrooms and bedrooms since we are focused on homes that are liveable and ensure they have some good values in order to design a better performing model"
   ]
  },
  {
   "cell_type": "code",
   "execution_count": 18,
   "metadata": {},
   "outputs": [
    {
     "data": {
      "text/plain": [
       "bathrooms\n",
       "0.0      262\n",
       "1.0     2510\n",
       "2.0     8121\n",
       "3.0     6274\n",
       "4.0     1710\n",
       "5.0      804\n",
       "6.0      337\n",
       "7.0      147\n",
       "8.0      102\n",
       "9.0       38\n",
       "10.0      19\n",
       "11.0      16\n",
       "12.0       9\n",
       "13.0       1\n",
       "14.0       5\n",
       "15.0       2\n",
       "20.0       1\n",
       "25.0       1\n",
       "58.0       1\n",
       "Name: count, dtype: int64"
      ]
     },
     "execution_count": 18,
     "metadata": {},
     "output_type": "execute_result"
    }
   ],
   "source": [
    "#Perform value count on 'bathrooms' column and list them in the ascending order\n",
    "df['bathrooms'].value_counts().sort_index()"
   ]
  },
  {
   "cell_type": "code",
   "execution_count": 19,
   "metadata": {},
   "outputs": [
    {
     "data": {
      "text/plain": [
       "bedrooms\n",
       "0.0       73\n",
       "1.0      245\n",
       "2.0     2461\n",
       "3.0     8569\n",
       "4.0     6235\n",
       "5.0     2093\n",
       "6.0      444\n",
       "7.0      140\n",
       "8.0       53\n",
       "9.0       24\n",
       "10.0       6\n",
       "11.0       6\n",
       "12.0       3\n",
       "13.0       3\n",
       "15.0       1\n",
       "17.0       1\n",
       "32.0       2\n",
       "52.0       1\n",
       "Name: count, dtype: int64"
      ]
     },
     "execution_count": 19,
     "metadata": {},
     "output_type": "execute_result"
    }
   ],
   "source": [
    "# Perform value count on 'bedrooms' column and list them in the ascending order\n",
    "df['bedrooms'].value_counts().sort_index()"
   ]
  },
  {
   "cell_type": "code",
   "execution_count": 20,
   "metadata": {},
   "outputs": [],
   "source": [
    "#Considering that we are focusing solely on SINGLE_FAMILY homes, it is unlikely that these will have 0 bedrooms or 0 bathrooms. \n",
    "# We will treat them as records with missing values and drop such records.\n",
    "\n",
    "# Drop records where 'bedrooms' is 0 or 'bathrooms' is 0\n",
    "df = df.loc[(df['bedrooms'] > 0) & (df['bathrooms'] > 0)]"
   ]
  },
  {
   "cell_type": "markdown",
   "metadata": {},
   "source": [
    "#### Analysis checkpoint 4 (bedrooms, bathrooms):\n",
    "<pre>\n",
    " 0   sequence            35389 non-null  int64    x   Drop column\n",
    " 1   id                  35389 non-null  object   x   Drop column\n",
    " 2   stateId             35389 non-null  int64    x   Drop column\n",
    " 3   countyId            35389 non-null  int64    x   Retain as-is\n",
    " 4   cityId              35389 non-null  int64    x   Retain as-is\n",
    " 5   country             35389 non-null  object   x   Drop column\n",
    " 6   datePostedString    35386 non-null  object \n",
    " 7   is_bankOwned        35389 non-null  int64    x   Drop records where value is 1 then drop this column\n",
    " 8   is_forAuction       35389 non-null  int64    x   Drop records where value is 1 then drop this column\n",
    " 9   event               35100 non-null  object   x   Drop records where 'event'='Listing removed' OR 'event'='Listed for rent'\n",
    " 10  time                35100 non-null  float64  x   Drop column\n",
    " 11  price               35389 non-null  float64  x   Drop records where price=0\n",
    " 12  pricePerSquareFoot  35389 non-null  float64\n",
    " 13  city                35389 non-null  object   x   Drop column\n",
    " 14  state               35389 non-null  object   x   Drop column\n",
    " 15  yearBuilt           35389 non-null  int64  \n",
    " 16  streetAddress       35388 non-null  object   x   Drop column\n",
    " 17  zipcode             35364 non-null  float64\n",
    " 18  longitude           35389 non-null  float64  x   Drop column\n",
    " 19  latitude            35389 non-null  float64  x   Drop column\n",
    " 20  hasBadGeocode       35389 non-null  int64    x   Drop column\n",
    " 21  description         35110 non-null  object   x   Drop column\n",
    " 22  currency            35389 non-null  object   x   Drop column\n",
    " 23  livingArea          35389 non-null  float64\n",
    " 24  livingAreaValue     35389 non-null  float64\n",
    " 25  lotAreaUnits        35389 non-null  object \n",
    " 26  bathrooms           35389 non-null  float64  x   Drop records where bathrooms=0\n",
    " 27  bedrooms            35389 non-null  float64  x   Drop records where bedrooms=0\n",
    " 28  buildingArea        35389 non-null  float64\n",
    " 29  parking             35389 non-null  int64  \n",
    " 30  garageSpaces        35389 non-null  float64\n",
    " 31  hasGarage           35389 non-null  int64  \n",
    " 32  levels              35389 non-null  object \n",
    " 33  pool                35389 non-null  int64  \n",
    " 34  spa                 35389 non-null  int64  \n",
    " 35  isNewConstruction   35389 non-null  int64  \n",
    " 36  hasPetsAllowed      35389 non-null  int64  \n",
    " 37  homeType            35389 non-null  object   x   Retain records where 'homeType'='SINGLE_FAMILY' and then drop this column \n",
    " 38  county              35389 non-null  object   x   Drop column\n",
    " </pre>"
   ]
  },
  {
   "cell_type": "code",
   "execution_count": 21,
   "metadata": {},
   "outputs": [
    {
     "name": "stdout",
     "output_type": "stream",
     "text": [
      "<class 'pandas.core.frame.DataFrame'>\n",
      "Index: 20079 entries, 1 to 35388\n",
      "Data columns (total 23 columns):\n",
      " #   Column              Non-Null Count  Dtype  \n",
      "---  ------              --------------  -----  \n",
      " 0   countyId            20079 non-null  int64  \n",
      " 1   cityId              20079 non-null  int64  \n",
      " 2   datePostedString    20079 non-null  object \n",
      " 3   event               20079 non-null  object \n",
      " 4   price               20079 non-null  float64\n",
      " 5   pricePerSquareFoot  20079 non-null  float64\n",
      " 6   yearBuilt           20079 non-null  int64  \n",
      " 7   zipcode             20079 non-null  float64\n",
      " 8   description         19979 non-null  object \n",
      " 9   livingArea          20079 non-null  float64\n",
      " 10  livingAreaValue     20079 non-null  float64\n",
      " 11  lotAreaUnits        20079 non-null  object \n",
      " 12  bathrooms           20079 non-null  float64\n",
      " 13  bedrooms            20079 non-null  float64\n",
      " 14  buildingArea        20079 non-null  float64\n",
      " 15  parking             20079 non-null  int64  \n",
      " 16  garageSpaces        20079 non-null  float64\n",
      " 17  hasGarage           20079 non-null  int64  \n",
      " 18  levels              20079 non-null  object \n",
      " 19  pool                20079 non-null  int64  \n",
      " 20  spa                 20079 non-null  int64  \n",
      " 21  isNewConstruction   20079 non-null  int64  \n",
      " 22  hasPetsAllowed      20079 non-null  int64  \n",
      "dtypes: float64(9), int64(9), object(5)\n",
      "memory usage: 3.7+ MB\n"
     ]
    }
   ],
   "source": [
    "df.info()"
   ]
  },
  {
   "cell_type": "markdown",
   "metadata": {},
   "source": [
    "### Analyze 'livingArea' and 'livingAreaValue' columns data"
   ]
  },
  {
   "cell_type": "code",
   "execution_count": 22,
   "metadata": {},
   "outputs": [
    {
     "data": {
      "text/plain": [
       "livingArea\n",
       "0.0       195\n",
       "1200.0     93\n",
       "1500.0     75\n",
       "1400.0     62\n",
       "2000.0     60\n",
       "         ... \n",
       "3835.0      1\n",
       "4376.0      1\n",
       "498.0       1\n",
       "7360.0      1\n",
       "4385.0      1\n",
       "Name: count, Length: 3963, dtype: int64"
      ]
     },
     "execution_count": 22,
     "metadata": {},
     "output_type": "execute_result"
    }
   ],
   "source": [
    "#check number of unique values for livingArea column\n",
    "df['livingArea'].value_counts()"
   ]
  },
  {
   "cell_type": "code",
   "execution_count": 23,
   "metadata": {},
   "outputs": [
    {
     "data": {
      "text/plain": [
       "livingAreaValue\n",
       "0.0       194\n",
       "1200.0     93\n",
       "1500.0     75\n",
       "1400.0     62\n",
       "2000.0     60\n",
       "         ... \n",
       "3835.0      1\n",
       "4376.0      1\n",
       "498.0       1\n",
       "7360.0      1\n",
       "4385.0      1\n",
       "Name: count, Length: 3964, dtype: int64"
      ]
     },
     "execution_count": 23,
     "metadata": {},
     "output_type": "execute_result"
    }
   ],
   "source": [
    "#check number of unique values for livingAreaValue column\n",
    "df['livingAreaValue'].value_counts()"
   ]
  },
  {
   "cell_type": "code",
   "execution_count": 24,
   "metadata": {},
   "outputs": [
    {
     "data": {
      "text/plain": [
       "(1, 23)"
      ]
     },
     "execution_count": 24,
     "metadata": {},
     "output_type": "execute_result"
    }
   ],
   "source": [
    "#Idenitfy the number of records where 'livingArea' and 'livingAreaValue' are not equal\n",
    "df.loc[df['livingArea'] != df['livingAreaValue']].shape"
   ]
  },
  {
   "cell_type": "markdown",
   "metadata": {},
   "source": [
    "##### 1. Since the 'livingArea' and 'livingAreaValue' seem identical, one of the columns ('livingArea') can be dropped. \n",
    "##### 2. Drop the records with livingAreaValue=0."
   ]
  },
  {
   "cell_type": "code",
   "execution_count": 25,
   "metadata": {},
   "outputs": [],
   "source": [
    "#Drop the 'livingArea' column \n",
    "df.drop('livingArea', axis=1, inplace=True)\n",
    "\n",
    "#drop records with 'livingAreaValue'=0\n",
    "df = df.loc[df['livingAreaValue'] > 0]"
   ]
  },
  {
   "cell_type": "markdown",
   "metadata": {},
   "source": [
    "#### Analysis checkpoint 5 (livingArea, livingAreaValue):\n",
    "<pre>\n",
    " 0   sequence            35389 non-null  int64    x   Drop column\n",
    " 1   id                  35389 non-null  object   x   Drop column\n",
    " 2   stateId             35389 non-null  int64    x   Drop column\n",
    " 3   countyId            35389 non-null  int64    x   Retain as-is\n",
    " 4   cityId              35389 non-null  int64    x   Retain as-is\n",
    " 5   country             35389 non-null  object   x   Drop column\n",
    " 6   datePostedString    35386 non-null  object \n",
    " 7   is_bankOwned        35389 non-null  int64    x   Drop records where value is 1 then drop this column\n",
    " 8   is_forAuction       35389 non-null  int64    x   Drop records where value is 1 then drop this column\n",
    " 9   event               35100 non-null  object   x   Drop records where 'event'='Listing removed' OR 'event'='Listed for rent'\n",
    " 10  time                35100 non-null  float64  x   Drop column\n",
    " 11  price               35389 non-null  float64  x   Drop records where price=0\n",
    " 12  pricePerSquareFoot  35389 non-null  float64\n",
    " 13  city                35389 non-null  object   x   Drop column\n",
    " 14  state               35389 non-null  object   x   Drop column\n",
    " 15  yearBuilt           35389 non-null  int64  \n",
    " 16  streetAddress       35388 non-null  object   x   Drop column\n",
    " 17  zipcode             35364 non-null  float64\n",
    " 18  longitude           35389 non-null  float64  x   Drop column\n",
    " 19  latitude            35389 non-null  float64  x   Drop column\n",
    " 20  hasBadGeocode       35389 non-null  int64    x   Drop column\n",
    " 21  description         35110 non-null  object   x   Drop column\n",
    " 22  currency            35389 non-null  object   x   Drop column\n",
    " 23  livingArea          35389 non-null  float64  x   Drop column\n",
    " 24  livingAreaValue     35389 non-null  float64  x   Drop records where livingAreaValue=0\n",
    " 25  lotAreaUnits        35389 non-null  object \n",
    " 26  bathrooms           35389 non-null  float64  x   Drop records where bathrooms=0\n",
    " 27  bedrooms            35389 non-null  float64  x   Drop records where bedrooms=0\n",
    " 28  buildingArea        35389 non-null  float64\n",
    " 29  parking             35389 non-null  int64  \n",
    " 30  garageSpaces        35389 non-null  float64\n",
    " 31  hasGarage           35389 non-null  int64  \n",
    " 32  levels              35389 non-null  object \n",
    " 33  pool                35389 non-null  int64  \n",
    " 34  spa                 35389 non-null  int64  \n",
    " 35  isNewConstruction   35389 non-null  int64  \n",
    " 36  hasPetsAllowed      35389 non-null  int64  \n",
    " 37  homeType            35389 non-null  object   x   Retain records where 'homeType'='SINGLE_FAMILY' and then drop this column \n",
    " 38  county              35389 non-null  object   x   Drop column\n",
    " </pre>"
   ]
  },
  {
   "cell_type": "code",
   "execution_count": 26,
   "metadata": {},
   "outputs": [
    {
     "name": "stdout",
     "output_type": "stream",
     "text": [
      "<class 'pandas.core.frame.DataFrame'>\n",
      "Index: 19885 entries, 1 to 35388\n",
      "Data columns (total 22 columns):\n",
      " #   Column              Non-Null Count  Dtype  \n",
      "---  ------              --------------  -----  \n",
      " 0   countyId            19885 non-null  int64  \n",
      " 1   cityId              19885 non-null  int64  \n",
      " 2   datePostedString    19885 non-null  object \n",
      " 3   event               19885 non-null  object \n",
      " 4   price               19885 non-null  float64\n",
      " 5   pricePerSquareFoot  19885 non-null  float64\n",
      " 6   yearBuilt           19885 non-null  int64  \n",
      " 7   zipcode             19885 non-null  float64\n",
      " 8   description         19785 non-null  object \n",
      " 9   livingAreaValue     19885 non-null  float64\n",
      " 10  lotAreaUnits        19885 non-null  object \n",
      " 11  bathrooms           19885 non-null  float64\n",
      " 12  bedrooms            19885 non-null  float64\n",
      " 13  buildingArea        19885 non-null  float64\n",
      " 14  parking             19885 non-null  int64  \n",
      " 15  garageSpaces        19885 non-null  float64\n",
      " 16  hasGarage           19885 non-null  int64  \n",
      " 17  levels              19885 non-null  object \n",
      " 18  pool                19885 non-null  int64  \n",
      " 19  spa                 19885 non-null  int64  \n",
      " 20  isNewConstruction   19885 non-null  int64  \n",
      " 21  hasPetsAllowed      19885 non-null  int64  \n",
      "dtypes: float64(8), int64(9), object(5)\n",
      "memory usage: 3.5+ MB\n"
     ]
    }
   ],
   "source": [
    "df.info()"
   ]
  },
  {
   "cell_type": "markdown",
   "metadata": {},
   "source": [
    "#### Analyze the 'datePostedString' column"
   ]
  },
  {
   "cell_type": "code",
   "execution_count": 27,
   "metadata": {},
   "outputs": [
    {
     "data": {
      "text/plain": [
       "17628    2021-07-14\n",
       "17049    2021-07-14\n",
       "19205    2021-07-14\n",
       "19196    2021-07-14\n",
       "17085    2021-07-14\n",
       "            ...    \n",
       "8567     2019-04-02\n",
       "12205    2019-01-28\n",
       "23369    2018-11-11\n",
       "25186    2018-10-25\n",
       "26807    2017-12-08\n",
       "Name: datePostedString, Length: 19885, dtype: object"
      ]
     },
     "execution_count": 27,
     "metadata": {},
     "output_type": "execute_result"
    }
   ],
   "source": [
    "# analyze the 'datePostedString' column in the descending order of 'datePostedString'\n",
    "df['datePostedString'].sort_values(ascending=False)"
   ]
  },
  {
   "cell_type": "code",
   "execution_count": 28,
   "metadata": {},
   "outputs": [],
   "source": [
    "# Since the intent is to not include a timeseries analysis, let's drop the data for anything older than 2021-01-01\n",
    "df = df.loc[df['datePostedString'] >= '2021-01-01']\n",
    "\n",
    "#create a new column 'month' from the 'datePostedString' column\n",
    "df['month'] = pd.to_datetime(df['datePostedString']).dt.month\n",
    "\n",
    "#convert 'month' to a object variable so it can be used as a categorical variable\n",
    "df['month'] = df['month'].astype('object')"
   ]
  },
  {
   "cell_type": "code",
   "execution_count": 29,
   "metadata": {},
   "outputs": [],
   "source": [
    "# We can then drop the 'datePostedString' column since it is no longer needed\n",
    "df.drop('datePostedString', axis=1, inplace=True)"
   ]
  },
  {
   "cell_type": "markdown",
   "metadata": {},
   "source": [
    "#### Analysis checkpoint 6 (datePostedString):\n",
    "<pre>\n",
    " 0   sequence            35389 non-null  int64    x   Drop column\n",
    " 1   id                  35389 non-null  object   x   Drop column\n",
    " 2   stateId             35389 non-null  int64    x   Drop column\n",
    " 3   countyId            35389 non-null  int64    x   Retain as-is\n",
    " 4   cityId              35389 non-null  int64    x   Retain as-is\n",
    " 5   country             35389 non-null  object   x   Drop column\n",
    " 6   datePostedString    35386 non-null  object   x   Drop all records older than '2021-01-01', then drop this column\n",
    " 7   is_bankOwned        35389 non-null  int64    x   Drop records where value is 1 then drop this column\n",
    " 8   is_forAuction       35389 non-null  int64    x   Drop records where value is 1 then drop this column\n",
    " 9   event               35100 non-null  object   x   Drop records where 'event'='Listing removed' OR 'event'='Listed for rent'\n",
    " 10  time                35100 non-null  float64  x   Drop column\n",
    " 11  price               35389 non-null  float64  x   Drop records where price=0\n",
    " 12  pricePerSquareFoot  35389 non-null  float64\n",
    " 13  city                35389 non-null  object   x   Drop column\n",
    " 14  state               35389 non-null  object   x   Drop column\n",
    " 15  yearBuilt           35389 non-null  int64  \n",
    " 16  streetAddress       35388 non-null  object   x   Drop column\n",
    " 17  zipcode             35364 non-null  float64\n",
    " 18  longitude           35389 non-null  float64  x   Drop column\n",
    " 19  latitude            35389 non-null  float64  x   Drop column\n",
    " 20  hasBadGeocode       35389 non-null  int64    x   Drop column\n",
    " 21  description         35110 non-null  object   x   Drop column\n",
    " 22  currency            35389 non-null  object   x   Drop column\n",
    " 23  livingArea          35389 non-null  float64  x   Drop column\n",
    " 24  livingAreaValue     35389 non-null  float64  x   Drop records where livingAreaValue=0\n",
    " 25  lotAreaUnits        35389 non-null  object \n",
    " 26  bathrooms           35389 non-null  float64  x   Drop records where bathrooms=0\n",
    " 27  bedrooms            35389 non-null  float64  x   Drop records where bedrooms=0\n",
    " 28  buildingArea        35389 non-null  float64\n",
    " 29  parking             35389 non-null  int64  \n",
    " 30  garageSpaces        35389 non-null  float64\n",
    " 31  hasGarage           35389 non-null  int64  \n",
    " 32  levels              35389 non-null  object \n",
    " 33  pool                35389 non-null  int64  \n",
    " 34  spa                 35389 non-null  int64  \n",
    " 35  isNewConstruction   35389 non-null  int64  \n",
    " 36  hasPetsAllowed      35389 non-null  int64  \n",
    " 37  homeType            35389 non-null  object   x   Retain records where 'homeType'='SINGLE_FAMILY' and then drop this column \n",
    " 38  county              35389 non-null  object   x   Drop column\n",
    " </pre>\n"
   ]
  },
  {
   "cell_type": "code",
   "execution_count": 30,
   "metadata": {},
   "outputs": [
    {
     "name": "stdout",
     "output_type": "stream",
     "text": [
      "<class 'pandas.core.frame.DataFrame'>\n",
      "Index: 19764 entries, 1 to 35388\n",
      "Data columns (total 22 columns):\n",
      " #   Column              Non-Null Count  Dtype  \n",
      "---  ------              --------------  -----  \n",
      " 0   countyId            19764 non-null  int64  \n",
      " 1   cityId              19764 non-null  int64  \n",
      " 2   event               19764 non-null  object \n",
      " 3   price               19764 non-null  float64\n",
      " 4   pricePerSquareFoot  19764 non-null  float64\n",
      " 5   yearBuilt           19764 non-null  int64  \n",
      " 6   zipcode             19764 non-null  float64\n",
      " 7   description         19664 non-null  object \n",
      " 8   livingAreaValue     19764 non-null  float64\n",
      " 9   lotAreaUnits        19764 non-null  object \n",
      " 10  bathrooms           19764 non-null  float64\n",
      " 11  bedrooms            19764 non-null  float64\n",
      " 12  buildingArea        19764 non-null  float64\n",
      " 13  parking             19764 non-null  int64  \n",
      " 14  garageSpaces        19764 non-null  float64\n",
      " 15  hasGarage           19764 non-null  int64  \n",
      " 16  levels              19764 non-null  object \n",
      " 17  pool                19764 non-null  int64  \n",
      " 18  spa                 19764 non-null  int64  \n",
      " 19  isNewConstruction   19764 non-null  int64  \n",
      " 20  hasPetsAllowed      19764 non-null  int64  \n",
      " 21  month               19764 non-null  object \n",
      "dtypes: float64(8), int64(9), object(5)\n",
      "memory usage: 3.5+ MB\n"
     ]
    }
   ],
   "source": [
    "df.info()"
   ]
  },
  {
   "cell_type": "markdown",
   "metadata": {},
   "source": [
    "#### Analyze the 'buildingArea' column"
   ]
  },
  {
   "cell_type": "code",
   "execution_count": 31,
   "metadata": {},
   "outputs": [
    {
     "data": {
      "text/plain": [
       "buildingArea\n",
       "0.0          15983\n",
       "1.0              2\n",
       "300.0            1\n",
       "324.0            1\n",
       "400.0            1\n",
       "             ...  \n",
       "20000.0          2\n",
       "20125.0          1\n",
       "21407.0          1\n",
       "692604.0         1\n",
       "9061351.0        1\n",
       "Name: count, Length: 1960, dtype: int64"
      ]
     },
     "execution_count": 31,
     "metadata": {},
     "output_type": "execute_result"
    }
   ],
   "source": [
    "#Identify value counts for 'buildingArea' column and list them in the ascending order\n",
    "df['buildingArea'].value_counts().sort_index()"
   ]
  },
  {
   "cell_type": "markdown",
   "metadata": {},
   "source": [
    "#### Since a large majority of 'buildingArea' values are 0 (almost 16K out of the total 19.7K total records), this column is not useful for any price predictions. This column can be dropped."
   ]
  },
  {
   "cell_type": "code",
   "execution_count": 32,
   "metadata": {},
   "outputs": [],
   "source": [
    "#drop 'buildingArea' column\n",
    "df.drop('buildingArea', axis=1, inplace=True)"
   ]
  },
  {
   "cell_type": "markdown",
   "metadata": {},
   "source": [
    "#### Analyze the 'lotAreaUnits' column"
   ]
  },
  {
   "cell_type": "code",
   "execution_count": 33,
   "metadata": {},
   "outputs": [
    {
     "data": {
      "text/plain": [
       "lotAreaUnits\n",
       "Acres     5939\n",
       "sqft     13825\n",
       "Name: count, dtype: int64"
      ]
     },
     "execution_count": 33,
     "metadata": {},
     "output_type": "execute_result"
    }
   ],
   "source": [
    "#Identify value counts for 'lotAreaUnits' column and list them in the ascending order\n",
    "df['lotAreaUnits'].value_counts().sort_index()"
   ]
  },
  {
   "cell_type": "markdown",
   "metadata": {},
   "source": [
    "#### 'lotAreaUnits' does not have a corresponding column (like 'lotArea' or 'buildingArea') to be associated with. As such this column can be dropped."
   ]
  },
  {
   "cell_type": "code",
   "execution_count": 34,
   "metadata": {},
   "outputs": [],
   "source": [
    "#drop 'lotAreaUnits' column\n",
    "df.drop('lotAreaUnits', axis=1, inplace=True)"
   ]
  },
  {
   "cell_type": "markdown",
   "metadata": {},
   "source": [
    "#### Analysis checkpoint 7 (buildingArea, lotAreaUnits):\n",
    "<pre>\n",
    " 0   sequence            35389 non-null  int64    x   Drop column\n",
    " 1   id                  35389 non-null  object   x   Drop column\n",
    " 2   stateId             35389 non-null  int64    x   Drop column\n",
    " 3   countyId            35389 non-null  int64    x   Retain as-is\n",
    " 4   cityId              35389 non-null  int64    x   Retain as-is\n",
    " 5   country             35389 non-null  object   x   Drop column\n",
    " 6   datePostedString    35386 non-null  object   x   Drop all records older than '2021-01-01', then drop this column\n",
    " 7   is_bankOwned        35389 non-null  int64    x   Drop records where value is 1 then drop this column\n",
    " 8   is_forAuction       35389 non-null  int64    x   Drop records where value is 1 then drop this column\n",
    " 9   event               35100 non-null  object   x   Drop records where 'event'='Listing removed' OR 'event'='Listed for rent'\n",
    " 10  time                35100 non-null  float64  x   Drop column\n",
    " 11  price               35389 non-null  float64  x   Drop records where price=0\n",
    " 12  pricePerSquareFoot  35389 non-null  float64\n",
    " 13  city                35389 non-null  object   x   Drop column\n",
    " 14  state               35389 non-null  object   x   Drop column\n",
    " 15  yearBuilt           35389 non-null  int64  \n",
    " 16  streetAddress       35388 non-null  object   x   Drop column\n",
    " 17  zipcode             35364 non-null  float64\n",
    " 18  longitude           35389 non-null  float64  x   Drop column\n",
    " 19  latitude            35389 non-null  float64  x   Drop column\n",
    " 20  hasBadGeocode       35389 non-null  int64    x   Drop column\n",
    " 21  description         35110 non-null  object   x   Drop column\n",
    " 22  currency            35389 non-null  object   x   Drop column\n",
    " 23  livingArea          35389 non-null  float64  x   Drop column\n",
    " 24  livingAreaValue     35389 non-null  float64  x   Drop records where livingAreaValue=0\n",
    " 25  lotAreaUnits        35389 non-null  object   x   Drop column\n",
    " 26  bathrooms           35389 non-null  float64  x   Drop records where bathrooms=0\n",
    " 27  bedrooms            35389 non-null  float64  x   Drop records where bedrooms=0\n",
    " 28  buildingArea        35389 non-null  float64  x   Drop column\n",
    " 29  parking             35389 non-null  int64  \n",
    " 30  garageSpaces        35389 non-null  float64\n",
    " 31  hasGarage           35389 non-null  int64  \n",
    " 32  levels              35389 non-null  object \n",
    " 33  pool                35389 non-null  int64  \n",
    " 34  spa                 35389 non-null  int64  \n",
    " 35  isNewConstruction   35389 non-null  int64  \n",
    " 36  hasPetsAllowed      35389 non-null  int64  \n",
    " 37  homeType            35389 non-null  object   x   Retain records where 'homeType'='SINGLE_FAMILY' and then drop this column \n",
    " 38  county              35389 non-null  object   x   Drop column\n",
    " </pre>\n"
   ]
  },
  {
   "cell_type": "code",
   "execution_count": 35,
   "metadata": {},
   "outputs": [
    {
     "name": "stdout",
     "output_type": "stream",
     "text": [
      "<class 'pandas.core.frame.DataFrame'>\n",
      "Index: 19764 entries, 1 to 35388\n",
      "Data columns (total 20 columns):\n",
      " #   Column              Non-Null Count  Dtype  \n",
      "---  ------              --------------  -----  \n",
      " 0   countyId            19764 non-null  int64  \n",
      " 1   cityId              19764 non-null  int64  \n",
      " 2   event               19764 non-null  object \n",
      " 3   price               19764 non-null  float64\n",
      " 4   pricePerSquareFoot  19764 non-null  float64\n",
      " 5   yearBuilt           19764 non-null  int64  \n",
      " 6   zipcode             19764 non-null  float64\n",
      " 7   description         19664 non-null  object \n",
      " 8   livingAreaValue     19764 non-null  float64\n",
      " 9   bathrooms           19764 non-null  float64\n",
      " 10  bedrooms            19764 non-null  float64\n",
      " 11  parking             19764 non-null  int64  \n",
      " 12  garageSpaces        19764 non-null  float64\n",
      " 13  hasGarage           19764 non-null  int64  \n",
      " 14  levels              19764 non-null  object \n",
      " 15  pool                19764 non-null  int64  \n",
      " 16  spa                 19764 non-null  int64  \n",
      " 17  isNewConstruction   19764 non-null  int64  \n",
      " 18  hasPetsAllowed      19764 non-null  int64  \n",
      " 19  month               19764 non-null  object \n",
      "dtypes: float64(7), int64(9), object(4)\n",
      "memory usage: 3.2+ MB\n"
     ]
    }
   ],
   "source": [
    "df.info()"
   ]
  },
  {
   "cell_type": "markdown",
   "metadata": {},
   "source": [
    "#### Analyze parking related columns\n",
    "1. 'garageSpaces' column\n",
    "2. 'hasGarage' column\n",
    "3. 'parking' column"
   ]
  },
  {
   "cell_type": "code",
   "execution_count": 36,
   "metadata": {},
   "outputs": [],
   "source": [
    "#check if hasGarage column has value of 0 when garageSpaces is not 0. Get a count of such records.\n",
    "df.loc[(df['garageSpaces'] == 0) & (df['hasGarage'] >0)].shape\n",
    "\n",
    "#Remove such records\n",
    "df = df.loc[(df['garageSpaces'] > 0) | (df['hasGarage'] == 0)]"
   ]
  },
  {
   "cell_type": "code",
   "execution_count": 37,
   "metadata": {},
   "outputs": [],
   "source": [
    "#Check the other way around now. Check if hasGarage column has value of 0 when garageSpaces > 0. Get a count of such records.\n",
    "df.loc[(df['garageSpaces'] > 0) & (df['hasGarage'] == 0)].shape\n",
    "\n",
    "#Remove such records\n",
    "df = df.loc[(df['garageSpaces'] == 0) | (df['hasGarage'] > 0)]"
   ]
  },
  {
   "cell_type": "code",
   "execution_count": 38,
   "metadata": {},
   "outputs": [],
   "source": [
    "#Now 'hasGarage' column is not needed since we have 'garageSpaces' column\n",
    "df.drop('hasGarage', axis=1, inplace=True)"
   ]
  },
  {
   "cell_type": "code",
   "execution_count": 39,
   "metadata": {},
   "outputs": [
    {
     "name": "stdout",
     "output_type": "stream",
     "text": [
      "<class 'pandas.core.frame.DataFrame'>\n",
      "Index: 19228 entries, 1 to 35388\n",
      "Data columns (total 19 columns):\n",
      " #   Column              Non-Null Count  Dtype  \n",
      "---  ------              --------------  -----  \n",
      " 0   countyId            19228 non-null  int64  \n",
      " 1   cityId              19228 non-null  int64  \n",
      " 2   event               19228 non-null  object \n",
      " 3   price               19228 non-null  float64\n",
      " 4   pricePerSquareFoot  19228 non-null  float64\n",
      " 5   yearBuilt           19228 non-null  int64  \n",
      " 6   zipcode             19228 non-null  float64\n",
      " 7   description         19130 non-null  object \n",
      " 8   livingAreaValue     19228 non-null  float64\n",
      " 9   bathrooms           19228 non-null  float64\n",
      " 10  bedrooms            19228 non-null  float64\n",
      " 11  parking             19228 non-null  int64  \n",
      " 12  garageSpaces        19228 non-null  float64\n",
      " 13  levels              19228 non-null  object \n",
      " 14  pool                19228 non-null  int64  \n",
      " 15  spa                 19228 non-null  int64  \n",
      " 16  isNewConstruction   19228 non-null  int64  \n",
      " 17  hasPetsAllowed      19228 non-null  int64  \n",
      " 18  month               19228 non-null  object \n",
      "dtypes: float64(7), int64(8), object(4)\n",
      "memory usage: 2.9+ MB\n"
     ]
    }
   ],
   "source": [
    "df.info()"
   ]
  },
  {
   "cell_type": "code",
   "execution_count": 40,
   "metadata": {},
   "outputs": [
    {
     "data": {
      "text/plain": [
       "parking\n",
       "1    15701\n",
       "0     3527\n",
       "Name: count, dtype: int64"
      ]
     },
     "execution_count": 40,
     "metadata": {},
     "output_type": "execute_result"
    }
   ],
   "source": [
    "#get the value counts for 'parking' column\n",
    "df['parking'].value_counts()"
   ]
  },
  {
   "cell_type": "code",
   "execution_count": 41,
   "metadata": {},
   "outputs": [
    {
     "data": {
      "text/plain": [
       "(4401, 19)"
      ]
     },
     "execution_count": 41,
     "metadata": {},
     "output_type": "execute_result"
    }
   ],
   "source": [
    "#Is 'parking' ever 0 when 'garageSpaces' is not 0?\n",
    "df.loc[(df['garageSpaces'] == 0) & (df['parking'] >0)].shape"
   ]
  },
  {
   "cell_type": "markdown",
   "metadata": {},
   "source": [
    "##### Retain records that have (df['garageSpaces'] > 0) | (df['hasGarage'] == 0) and  (df['garageSpaces'] == 0) | (df['hasGarage'] > 0), then drop 'hasGarage' column\n",
    "##### Retain 'parking' as-is since parking flag is independent of 'garageSpaces'"
   ]
  },
  {
   "cell_type": "markdown",
   "metadata": {},
   "source": [
    "#### Analysis checkpoint 8 (garageSpaces, hasGarage, parking):\n",
    "<pre>\n",
    " 0   sequence            35389 non-null  int64    x   Drop column\n",
    " 1   id                  35389 non-null  object   x   Drop column\n",
    " 2   stateId             35389 non-null  int64    x   Drop column\n",
    " 3   countyId            35389 non-null  int64    x   Retain as-is\n",
    " 4   cityId              35389 non-null  int64    x   Retain as-is\n",
    " 5   country             35389 non-null  object   x   Drop column\n",
    " 6   datePostedString    35386 non-null  object   x   Drop all records older than '2021-01-01', then drop this column\n",
    " 7   is_bankOwned        35389 non-null  int64    x   Drop records where value is 1 then drop this column\n",
    " 8   is_forAuction       35389 non-null  int64    x   Drop records where value is 1 then drop this column\n",
    " 9   event               35100 non-null  object   x   Drop records where 'event'='Listing removed' OR 'event'='Listed for rent'\n",
    " 10  time                35100 non-null  float64  x   Drop column\n",
    " 11  price               35389 non-null  float64  x   Drop records where price=0\n",
    " 12  pricePerSquareFoot  35389 non-null  float64\n",
    " 13  city                35389 non-null  object   x   Drop column\n",
    " 14  state               35389 non-null  object   x   Drop column\n",
    " 15  yearBuilt           35389 non-null  int64  \n",
    " 16  streetAddress       35388 non-null  object   x   Drop column\n",
    " 17  zipcode             35364 non-null  float64\n",
    " 18  longitude           35389 non-null  float64  x   Drop column\n",
    " 19  latitude            35389 non-null  float64  x   Drop column\n",
    " 20  hasBadGeocode       35389 non-null  int64    x   Drop column\n",
    " 21  description         35110 non-null  object   x   Drop column\n",
    " 22  currency            35389 non-null  object   x   Drop column\n",
    " 23  livingArea          35389 non-null  float64  x   Drop column\n",
    " 24  livingAreaValue     35389 non-null  float64  x   Drop records where livingAreaValue=0\n",
    " 25  lotAreaUnits        35389 non-null  object   x   Drop column\n",
    " 26  bathrooms           35389 non-null  float64  x   Drop records where bathrooms=0\n",
    " 27  bedrooms            35389 non-null  float64  x   Drop records where bedrooms=0\n",
    " 28  buildingArea        35389 non-null  float64  x   Drop column\n",
    " 29  parking             35389 non-null  int64    x   Retain as-is\n",
    " 30  garageSpaces        35389 non-null  float64  x   Retain records that have (df['garageSpaces'] > 0) | (df['hasGarage'] == 0) and  (df['garageSpaces'] == 0) | (df['hasGarage'] > 0), then drop 'hasGarage' column\n",
    " 31  hasGarage           35389 non-null  int64    x   (review comment for 'garageSpaces' column)\n",
    " 32  levels              35389 non-null  object \n",
    " 33  pool                35389 non-null  int64  \n",
    " 34  spa                 35389 non-null  int64  \n",
    " 35  isNewConstruction   35389 non-null  int64  \n",
    " 36  hasPetsAllowed      35389 non-null  int64  \n",
    " 37  homeType            35389 non-null  object   x   Retain records where 'homeType'='SINGLE_FAMILY' and then drop this column \n",
    " 38  county              35389 non-null  object   x   Drop column\n",
    " </pre>\n"
   ]
  },
  {
   "cell_type": "code",
   "execution_count": 42,
   "metadata": {},
   "outputs": [
    {
     "name": "stdout",
     "output_type": "stream",
     "text": [
      "<class 'pandas.core.frame.DataFrame'>\n",
      "Index: 19228 entries, 1 to 35388\n",
      "Data columns (total 19 columns):\n",
      " #   Column              Non-Null Count  Dtype  \n",
      "---  ------              --------------  -----  \n",
      " 0   countyId            19228 non-null  int64  \n",
      " 1   cityId              19228 non-null  int64  \n",
      " 2   event               19228 non-null  object \n",
      " 3   price               19228 non-null  float64\n",
      " 4   pricePerSquareFoot  19228 non-null  float64\n",
      " 5   yearBuilt           19228 non-null  int64  \n",
      " 6   zipcode             19228 non-null  float64\n",
      " 7   description         19130 non-null  object \n",
      " 8   livingAreaValue     19228 non-null  float64\n",
      " 9   bathrooms           19228 non-null  float64\n",
      " 10  bedrooms            19228 non-null  float64\n",
      " 11  parking             19228 non-null  int64  \n",
      " 12  garageSpaces        19228 non-null  float64\n",
      " 13  levels              19228 non-null  object \n",
      " 14  pool                19228 non-null  int64  \n",
      " 15  spa                 19228 non-null  int64  \n",
      " 16  isNewConstruction   19228 non-null  int64  \n",
      " 17  hasPetsAllowed      19228 non-null  int64  \n",
      " 18  month               19228 non-null  object \n",
      "dtypes: float64(7), int64(8), object(4)\n",
      "memory usage: 2.9+ MB\n"
     ]
    }
   ],
   "source": [
    "df.info()"
   ]
  },
  {
   "cell_type": "markdown",
   "metadata": {},
   "source": [
    "##### Analyze 'levels'"
   ]
  },
  {
   "cell_type": "code",
   "execution_count": 43,
   "metadata": {},
   "outputs": [
    {
     "data": {
      "text/plain": [
       "levels\n",
       "0                                      7107\n",
       "1                                        39\n",
       "2                                        41\n",
       "3                                        15\n",
       "4+                                        2\n",
       "Multi/Split                             269\n",
       "Multi/Split-One                           2\n",
       "Multi/Split-Three Or More                 2\n",
       "Multi/Split-Tri-Level                     3\n",
       "Multi/Split-Two                          10\n",
       "One                                    6225\n",
       "One Story                               576\n",
       "One Story-One                             5\n",
       "One-Multi/Split                           9\n",
       "One-Three Or More                         2\n",
       "One-Two                                  44\n",
       "One-Two-Multi/Split                       2\n",
       "One-Two-Three Or More                     1\n",
       "Other                                     9\n",
       "Split Level                               2\n",
       "Three                                    11\n",
       "Three Or More                           330\n",
       "Three Or More-Multi/Split                 9\n",
       "Three Or More-Two                         1\n",
       "Three or More Stories                    55\n",
       "Three or More Stories-One-Two             1\n",
       "Three or More Stories-Three Or More       4\n",
       "Tri-Level                                39\n",
       "Two                                    3860\n",
       "Two Story                               506\n",
       "Two Story-One                             2\n",
       "Two Story-Two                            11\n",
       "Two-Multi/Split                          26\n",
       "Two-One                                   1\n",
       "Two-Three Or More                         7\n",
       "Name: count, dtype: int64"
      ]
     },
     "execution_count": 43,
     "metadata": {},
     "output_type": "execute_result"
    }
   ],
   "source": [
    "# analyze 'levels' column in the ascending order of 'levels'\n",
    "df['levels'].value_counts().sort_index()"
   ]
  },
  {
   "cell_type": "markdown",
   "metadata": {},
   "source": [
    "##### 'levels' has many values but while there many unique values, they can be cleaned up to consolidate into a fewer set of values:\n",
    "- '1', 'One Story', 'One Story-One' = 'One'\n",
    "- '2', 'Two Story', 'Two Story-One', 'Two Story-Two',  'Two-One' = 'Two'\n",
    "- '3', '4+', 'Three', 'Multi/Split-One', 'Multi/Split-Three Or More', 'Multi/Split-Tri-Level', 'Multi/Split-Two, 'One-Multi/Split', 'One-Three Or More', 'One-Two', 'One-Two-Multi/Split', 'One-Two-Three Or More', 'Split Level', 'Three Or More-Multi/Split', 'Three Or More-Two', 'Three or More Stories', 'Three or More Stories-One-Two', 'Three or More Stories-Three Or More', 'Tri-Level',  'Two-Multi/Split', 'Two-Three Or More' = 'Multi/Split'"
   ]
  },
  {
   "cell_type": "code",
   "execution_count": 44,
   "metadata": {},
   "outputs": [],
   "source": [
    "# Update the values in the 'levels' such that:\n",
    "# '0', '1', 'One Story', 'One Story-One' = 'One'\n",
    "# '2', 'Two Story', 'Two Story-One', 'Two Story-Two',  'Two-One' = 'Two'\n",
    "# '3', '4+', 'Three', 'Three Or More', 'Multi/Split-One', 'Multi/Split-Three Or More', 'Multi/Split-Tri-Level', 'Multi/Split-Two, 'One-Multi/Split', 'One-Three Or More', 'One-Two', 'One-Two-Multi/Split', 'One-Two-Three Or More', 'Split Level', 'Three Or More-Multi/Split', 'Three Or More-Two', 'Three or More Stories', 'Three or More Stories-One-Two', 'Three or More Stories-Three Or More', 'Tri-Level',  'Two-Multi/Split', 'Two-Three Or More' = 'Multi/Split'\n",
    "\n",
    "df['levels'] = df['levels'].replace(['0', '1', 'One Story', 'One Story-One'], 'One') #assuming '0' means 'One' for single story houses\n",
    "df['levels'] = df['levels'].replace(['2', 'Two Story', 'Two Story-One', 'Two Story-Two', 'Two-One'], 'Two')\n",
    "df['levels'] = df['levels'].replace(['3', '4+', 'Three', 'Three Or More', 'Multi/Split-One', 'Multi/Split-Three Or More', 'Multi/Split-Tri-Level', 'Multi/Split-Two', 'One-Multi/Split', 'One-Three Or More', 'One-Two', 'One-Two-Multi/Split', 'One-Two-Three Or More', 'Split Level', 'Three Or More-Multi/Split', 'Three Or More-Two', 'Three or More Stories', 'Three or More Stories-One-Two', 'Three or More Stories-Three Or More', 'Tri-Level',  'Two-Multi/Split', 'Two-Three Or More'], 'Multi/Split')"
   ]
  },
  {
   "cell_type": "code",
   "execution_count": 45,
   "metadata": {},
   "outputs": [
    {
     "data": {
      "text/html": [
       "<div>\n",
       "<style scoped>\n",
       "    .dataframe tbody tr th:only-of-type {\n",
       "        vertical-align: middle;\n",
       "    }\n",
       "\n",
       "    .dataframe tbody tr th {\n",
       "        vertical-align: top;\n",
       "    }\n",
       "\n",
       "    .dataframe thead th {\n",
       "        text-align: right;\n",
       "    }\n",
       "</style>\n",
       "<table border=\"1\" class=\"dataframe\">\n",
       "  <thead>\n",
       "    <tr style=\"text-align: right;\">\n",
       "      <th></th>\n",
       "      <th>countyId</th>\n",
       "      <th>cityId</th>\n",
       "      <th>event</th>\n",
       "      <th>price</th>\n",
       "      <th>pricePerSquareFoot</th>\n",
       "      <th>yearBuilt</th>\n",
       "      <th>zipcode</th>\n",
       "      <th>description</th>\n",
       "      <th>livingAreaValue</th>\n",
       "      <th>bathrooms</th>\n",
       "      <th>bedrooms</th>\n",
       "      <th>parking</th>\n",
       "      <th>garageSpaces</th>\n",
       "      <th>levels</th>\n",
       "      <th>pool</th>\n",
       "      <th>spa</th>\n",
       "      <th>isNewConstruction</th>\n",
       "      <th>hasPetsAllowed</th>\n",
       "      <th>month</th>\n",
       "    </tr>\n",
       "  </thead>\n",
       "  <tbody>\n",
       "    <tr>\n",
       "      <th>17618</th>\n",
       "      <td>228861</td>\n",
       "      <td>12804</td>\n",
       "      <td>Price change</td>\n",
       "      <td>369000.0</td>\n",
       "      <td>503.0</td>\n",
       "      <td>1964</td>\n",
       "      <td>95462.0</td>\n",
       "      <td>Open House: Saturday July 17th 12-2pm. Priced to sell. SELLER IS MOTIVATED! Call Danielle Collard 510-502-8246 for easy showings. Charming home is nestled among the Redwoods on a spacious corner lot above the Russian River. Needs a bit of TLC. Relax or entertain in the welcoming family room with brick fireplace. Laundry &amp; living area all on one level. Kitchen has Quartz countertops undermount sink &amp; wood cabinets. Large Bedroom has mirrored closet doors separate sitting area &amp; lots of windows with amazing views of the Redwood forest. The Office/2nd bedroom has plenty of windows &amp; private balcony. The laundry room has full size washer dryer &amp; small freezer. The large basement is partially finished with plenty of storage. One car garage/work shop with storage &amp; a large driveway. Additional parking areas.</td>\n",
       "      <td>734.0</td>\n",
       "      <td>1.0</td>\n",
       "      <td>1.0</td>\n",
       "      <td>1</td>\n",
       "      <td>1.0</td>\n",
       "      <td>Other</td>\n",
       "      <td>0</td>\n",
       "      <td>0</td>\n",
       "      <td>0</td>\n",
       "      <td>0</td>\n",
       "      <td>4</td>\n",
       "    </tr>\n",
       "    <tr>\n",
       "      <th>32639</th>\n",
       "      <td>95085</td>\n",
       "      <td>13072</td>\n",
       "      <td>Listed for sale</td>\n",
       "      <td>699000.0</td>\n",
       "      <td>462.0</td>\n",
       "      <td>1914</td>\n",
       "      <td>94603.0</td>\n",
       "      <td>Come and see this home. Big back yard. Needs TLC bring in your contractor. Public record shows this is a( Duplex 2 units).</td>\n",
       "      <td>1512.0</td>\n",
       "      <td>2.0</td>\n",
       "      <td>4.0</td>\n",
       "      <td>0</td>\n",
       "      <td>0.0</td>\n",
       "      <td>Other</td>\n",
       "      <td>0</td>\n",
       "      <td>0</td>\n",
       "      <td>0</td>\n",
       "      <td>0</td>\n",
       "      <td>6</td>\n",
       "    </tr>\n",
       "    <tr>\n",
       "      <th>16592</th>\n",
       "      <td>216754</td>\n",
       "      <td>13072</td>\n",
       "      <td>Listed for sale</td>\n",
       "      <td>749000.0</td>\n",
       "      <td>654.0</td>\n",
       "      <td>1924</td>\n",
       "      <td>94619.0</td>\n",
       "      <td>Don’t miss this charming 2 bed/1 bath bungalow with add’l bonus suite in popular Maxwell Park! Set up on a hill with a sunny location &amp; loads of light you’ll love its attractive front presence with a landscaped yard and a welcoming front porch. Charm abounds with its original details: the fireplace and built-in cabinets recessed ceilings molding and handsome hardwood flooring. The living &amp; dining rooms look out to pleasant hillside views. Updates include newer windows recessed lighting &amp; an updated kitchen &amp; with granite counters and stainless appliances. On the main level enjoy two bedrooms a full bath &amp; a huge walk-in closet for a potential primary bath. A separate studio with full bath is perfect for a large office or in-law suite. Relax in the peaceful backyard with mature landscaping two patios &amp; grass for entertaining and play. Loads of off-street parking or a play area on the extra long driveway. Close to Laurel district shops restaurants freeways &amp; transportation.</td>\n",
       "      <td>1145.0</td>\n",
       "      <td>2.0</td>\n",
       "      <td>2.0</td>\n",
       "      <td>0</td>\n",
       "      <td>0.0</td>\n",
       "      <td>Other</td>\n",
       "      <td>0</td>\n",
       "      <td>0</td>\n",
       "      <td>0</td>\n",
       "      <td>0</td>\n",
       "      <td>7</td>\n",
       "    </tr>\n",
       "    <tr>\n",
       "      <th>16747</th>\n",
       "      <td>219670</td>\n",
       "      <td>13072</td>\n",
       "      <td>Listed for sale</td>\n",
       "      <td>789000.0</td>\n",
       "      <td>595.0</td>\n",
       "      <td>1912</td>\n",
       "      <td>94607.0</td>\n",
       "      <td>\"One of a kind traditional urban conversion with charming corner bay window.The best of both worlds! Two fantastic spaces with separate entrances.Upon entering the 1326 SqFt. up-stairs unit you will feel welcomed by the spacious open layout captivating high ceilings &amp; natural filtered light throughout that highlights the original Douglas Fir floors.Bedrooms with ample closet space and an attic that you must see to believe with potential to be converted into a loft. All tastefully renovated with professional craftsmanship! Ground level space has two separate entrances that will welcome the investor in you into a magnificent 1024 SqFt. white canvas which will spark your imagination with its 10 high ceiling and exposed re-enforced structure. An absolute $$$+ making opportunity. Lovely yard partly shaded by a majestic avocado tree. Operable gate providing opportunity for gated parking.Great location!Minutes to Oak. airport SF Berkeley Bart other. Easy access to HWY 80/580 &amp; 24.\"</td>\n",
       "      <td>1326.0</td>\n",
       "      <td>2.0</td>\n",
       "      <td>3.0</td>\n",
       "      <td>0</td>\n",
       "      <td>0.0</td>\n",
       "      <td>Other</td>\n",
       "      <td>0</td>\n",
       "      <td>0</td>\n",
       "      <td>0</td>\n",
       "      <td>0</td>\n",
       "      <td>7</td>\n",
       "    </tr>\n",
       "    <tr>\n",
       "      <th>13194</th>\n",
       "      <td>166905</td>\n",
       "      <td>13699</td>\n",
       "      <td>Price change</td>\n",
       "      <td>1499000.0</td>\n",
       "      <td>769.0</td>\n",
       "      <td>1946</td>\n",
       "      <td>94401.0</td>\n",
       "      <td>Pack your belongings and move in. Beautifully remodeled home located in the city of San Mateo. Home features family room living room 3 bedrooms 2 full bathrooms recessed lights elegant engineered hardwood floors dual pane windows and freshly painted inside and outside. Huge private master suite with mirror closet door. Cook your next meal in an exquisite kitchen with brand new cabinets Korean counter-tops stainless steel appliances and decorative backsplash. Updated bathrooms new crown molding and baseboard. Elegant front and backyard with new sod/grass. Easy access to highway 101. HUGE PRICE REDUCTION</td>\n",
       "      <td>1950.0</td>\n",
       "      <td>2.0</td>\n",
       "      <td>3.0</td>\n",
       "      <td>1</td>\n",
       "      <td>1.0</td>\n",
       "      <td>Other</td>\n",
       "      <td>0</td>\n",
       "      <td>0</td>\n",
       "      <td>0</td>\n",
       "      <td>0</td>\n",
       "      <td>3</td>\n",
       "    </tr>\n",
       "    <tr>\n",
       "      <th>30462</th>\n",
       "      <td>66535</td>\n",
       "      <td>51518</td>\n",
       "      <td>Listed for sale</td>\n",
       "      <td>1499000.0</td>\n",
       "      <td>537.0</td>\n",
       "      <td>1979</td>\n",
       "      <td>94518.0</td>\n",
       "      <td>\"Rarely available Mediterranean estate located in Concords most exclusive neighborhood.  Property backs up to LimeRidge Open Space and has amazing views to the West.  Convenient access to Contra Costa Canal Trail.  Huge pool/spa &amp; large deck in the backyard is the perfect entertaining area.  Walk out onto the veranda off the family room/kitchen area and take in a gorgeous sunset.  Park a good amount of cars or boats safely in the driveway.  Electricity is plumbed for RV parking.  House has central vac system throughout.  Tankless water heater and HVAC system was recently updated.  Pool has been re-plastered within the past 10 years.  Kitchen updated with stainless steel appliances solid wood cabinetry solid granite countertops.  Upon entry the spiked ceiling texture grabs your attention on the vaulted ceilings of this multilevel house.  Property is part of a small HOA that has shared interest in a piece of land that was once horse stables.\"</td>\n",
       "      <td>2792.0</td>\n",
       "      <td>3.0</td>\n",
       "      <td>5.0</td>\n",
       "      <td>1</td>\n",
       "      <td>2.0</td>\n",
       "      <td>Other</td>\n",
       "      <td>1</td>\n",
       "      <td>1</td>\n",
       "      <td>0</td>\n",
       "      <td>1</td>\n",
       "      <td>7</td>\n",
       "    </tr>\n",
       "    <tr>\n",
       "      <th>3126</th>\n",
       "      <td>35255</td>\n",
       "      <td>25455</td>\n",
       "      <td>Sold</td>\n",
       "      <td>1544000.0</td>\n",
       "      <td>493.0</td>\n",
       "      <td>1957</td>\n",
       "      <td>94549.0</td>\n",
       "      <td>New Price Reduction. OH Sat 7.10 Sun 7.11 1 to 4 PM. Elegant and sophisticated 4 Bedroom/4.5 Bath home with approx. 3129 sf of living space on quiet .39 +/- acre lot. Fabulous layout with spacious rooms a formal living room and dining room tall ceilings great light and tranquil views. Large modern kitchen features a center island stainless steel appliances granite countertops a separate prep sink and a wine fridge. An open concept design with an adjoining family room centered around a grand fireplace with built-in cabinetry.  Double doors lead to the secluded pool and spa with plenty of sunshine as well as shade from the majestic oaks and a retractable awning. The primary bedroom suite has its own fireplace large picture windows looking out to the pool a generous bath and a walk-in closet. Attached is a bonus office space with a full bath and its own exterior entrance. The bedroom wing includes a second ensuite 2 bedrooms and a hall bath. Three car garage add driveway.</td>\n",
       "      <td>3129.0</td>\n",
       "      <td>5.0</td>\n",
       "      <td>4.0</td>\n",
       "      <td>1</td>\n",
       "      <td>3.0</td>\n",
       "      <td>Other</td>\n",
       "      <td>1</td>\n",
       "      <td>1</td>\n",
       "      <td>0</td>\n",
       "      <td>0</td>\n",
       "      <td>6</td>\n",
       "    </tr>\n",
       "    <tr>\n",
       "      <th>21849</th>\n",
       "      <td>285001</td>\n",
       "      <td>42569</td>\n",
       "      <td>Listed for sale</td>\n",
       "      <td>3690000.0</td>\n",
       "      <td>728.0</td>\n",
       "      <td>2000</td>\n",
       "      <td>94563.0</td>\n",
       "      <td>\"Amazing Orinda villa that offers total privacy and seclusion and yet close to downtown and only a 16 minute drive away from the best San Francisco has to offer! Walk in Apartment with possible bedroom and Full Bath Three Full Bedrooms with Three full Baths Upstairs Second Apartment with Full Bath and its Own entrance and living area walk-in closet bedroom and possible kitchen and Full Bath. Majestic heated pool with waterfalls  with covered entertaining area...All Behind an electric gate in almost an acre with a long driveway! Virtually enhanced by our contractor property can be delivered painted to new owners at close of escrow!\"</td>\n",
       "      <td>5067.0</td>\n",
       "      <td>8.0</td>\n",
       "      <td>5.0</td>\n",
       "      <td>1</td>\n",
       "      <td>3.0</td>\n",
       "      <td>Other</td>\n",
       "      <td>1</td>\n",
       "      <td>1</td>\n",
       "      <td>0</td>\n",
       "      <td>0</td>\n",
       "      <td>6</td>\n",
       "    </tr>\n",
       "    <tr>\n",
       "      <th>23322</th>\n",
       "      <td>306619</td>\n",
       "      <td>13072</td>\n",
       "      <td>Listed for sale</td>\n",
       "      <td>3850000.0</td>\n",
       "      <td>539.0</td>\n",
       "      <td>1912</td>\n",
       "      <td>94610.0</td>\n",
       "      <td>Designed by famed architect John Hudson Thomas for John F. Conners who at the time was the managing editor of the Oakland Tribune. This home has heart &amp; soul w/ its stately living room accented w/ crisp white walls a hammered copper fireplace hood bold redwood beams baseboards &amp; woodwork. French doors lead into the formal dining room w/ a striking fireplace &amp; handsome floor-to-ceiling windows overlooking a Norfolk Pine tree. The indoor-outdoor ambience flows to the ample front balcony that stretches across the entire front of the home offering views of charming Crocker Highlands &amp; the western skyline. An impressive main staircase leads you to 3 large bedrooms all on the same level with fireplaces &amp; western-facing windows with bay views. Luxurious primary en-suite w/ balcony &amp; lavish bathroom. Eat-in kitchen offers a Viking range wall of windows &amp; French door to private deck. Au-pair detached carriage studio gardens &amp; fully fenced in. Live in an architectural masterpiece.</td>\n",
       "      <td>7142.0</td>\n",
       "      <td>6.0</td>\n",
       "      <td>6.0</td>\n",
       "      <td>0</td>\n",
       "      <td>0.0</td>\n",
       "      <td>Other</td>\n",
       "      <td>0</td>\n",
       "      <td>1</td>\n",
       "      <td>0</td>\n",
       "      <td>0</td>\n",
       "      <td>6</td>\n",
       "    </tr>\n",
       "  </tbody>\n",
       "</table>\n",
       "</div>"
      ],
      "text/plain": [
       "       countyId  cityId            event      price  pricePerSquareFoot  \\\n",
       "17618    228861   12804     Price change   369000.0               503.0   \n",
       "32639     95085   13072  Listed for sale   699000.0               462.0   \n",
       "16592    216754   13072  Listed for sale   749000.0               654.0   \n",
       "16747    219670   13072  Listed for sale   789000.0               595.0   \n",
       "13194    166905   13699     Price change  1499000.0               769.0   \n",
       "30462     66535   51518  Listed for sale  1499000.0               537.0   \n",
       "3126      35255   25455             Sold  1544000.0               493.0   \n",
       "21849    285001   42569  Listed for sale  3690000.0               728.0   \n",
       "23322    306619   13072  Listed for sale  3850000.0               539.0   \n",
       "\n",
       "       yearBuilt  zipcode  \\\n",
       "17618       1964  95462.0   \n",
       "32639       1914  94603.0   \n",
       "16592       1924  94619.0   \n",
       "16747       1912  94607.0   \n",
       "13194       1946  94401.0   \n",
       "30462       1979  94518.0   \n",
       "3126        1957  94549.0   \n",
       "21849       2000  94563.0   \n",
       "23322       1912  94610.0   \n",
       "\n",
       "                                                                                                                                                                                                                                                                                                                                                                                                                                                                                                                                                                                                                                                                                                                                                                                                                                                                                                                                                                                                                         description  \\\n",
       "17618                                                                                                                                                                                  Open House: Saturday July 17th 12-2pm. Priced to sell. SELLER IS MOTIVATED! Call Danielle Collard 510-502-8246 for easy showings. Charming home is nestled among the Redwoods on a spacious corner lot above the Russian River. Needs a bit of TLC. Relax or entertain in the welcoming family room with brick fireplace. Laundry & living area all on one level. Kitchen has Quartz countertops undermount sink & wood cabinets. Large Bedroom has mirrored closet doors separate sitting area & lots of windows with amazing views of the Redwood forest. The Office/2nd bedroom has plenty of windows & private balcony. The laundry room has full size washer dryer & small freezer. The large basement is partially finished with plenty of storage. One car garage/work shop with storage & a large driveway. Additional parking areas.   \n",
       "32639                                                                                                                                                                                                                                                                                                                                                                                                                                                                                                                                                                                                                                                                                                                                                                                                                                                                                                     Come and see this home. Big back yard. Needs TLC bring in your contractor. Public record shows this is a( Duplex 2 units).   \n",
       "16592     Don’t miss this charming 2 bed/1 bath bungalow with add’l bonus suite in popular Maxwell Park! Set up on a hill with a sunny location & loads of light you’ll love its attractive front presence with a landscaped yard and a welcoming front porch. Charm abounds with its original details: the fireplace and built-in cabinets recessed ceilings molding and handsome hardwood flooring. The living & dining rooms look out to pleasant hillside views. Updates include newer windows recessed lighting & an updated kitchen & with granite counters and stainless appliances. On the main level enjoy two bedrooms a full bath & a huge walk-in closet for a potential primary bath. A separate studio with full bath is perfect for a large office or in-law suite. Relax in the peaceful backyard with mature landscaping two patios & grass for entertaining and play. Loads of off-street parking or a play area on the extra long driveway. Close to Laurel district shops restaurants freeways & transportation.   \n",
       "16747  \"One of a kind traditional urban conversion with charming corner bay window.The best of both worlds! Two fantastic spaces with separate entrances.Upon entering the 1326 SqFt. up-stairs unit you will feel welcomed by the spacious open layout captivating high ceilings & natural filtered light throughout that highlights the original Douglas Fir floors.Bedrooms with ample closet space and an attic that you must see to believe with potential to be converted into a loft. All tastefully renovated with professional craftsmanship! Ground level space has two separate entrances that will welcome the investor in you into a magnificent 1024 SqFt. white canvas which will spark your imagination with its 10 high ceiling and exposed re-enforced structure. An absolute $$$+ making opportunity. Lovely yard partly shaded by a majestic avocado tree. Operable gate providing opportunity for gated parking.Great location!Minutes to Oak. airport SF Berkeley Bart other. Easy access to HWY 80/580 & 24.\"   \n",
       "13194                                                                                                                                                                                                                                                                                                                                                                                              Pack your belongings and move in. Beautifully remodeled home located in the city of San Mateo. Home features family room living room 3 bedrooms 2 full bathrooms recessed lights elegant engineered hardwood floors dual pane windows and freshly painted inside and outside. Huge private master suite with mirror closet door. Cook your next meal in an exquisite kitchen with brand new cabinets Korean counter-tops stainless steel appliances and decorative backsplash. Updated bathrooms new crown molding and baseboard. Elegant front and backyard with new sod/grass. Easy access to highway 101. HUGE PRICE REDUCTION   \n",
       "30462                                     \"Rarely available Mediterranean estate located in Concords most exclusive neighborhood.  Property backs up to LimeRidge Open Space and has amazing views to the West.  Convenient access to Contra Costa Canal Trail.  Huge pool/spa & large deck in the backyard is the perfect entertaining area.  Walk out onto the veranda off the family room/kitchen area and take in a gorgeous sunset.  Park a good amount of cars or boats safely in the driveway.  Electricity is plumbed for RV parking.  House has central vac system throughout.  Tankless water heater and HVAC system was recently updated.  Pool has been re-plastered within the past 10 years.  Kitchen updated with stainless steel appliances solid wood cabinetry solid granite countertops.  Upon entry the spiked ceiling texture grabs your attention on the vaulted ceilings of this multilevel house.  Property is part of a small HOA that has shared interest in a piece of land that was once horse stables.\"   \n",
       "3126         New Price Reduction. OH Sat 7.10 Sun 7.11 1 to 4 PM. Elegant and sophisticated 4 Bedroom/4.5 Bath home with approx. 3129 sf of living space on quiet .39 +/- acre lot. Fabulous layout with spacious rooms a formal living room and dining room tall ceilings great light and tranquil views. Large modern kitchen features a center island stainless steel appliances granite countertops a separate prep sink and a wine fridge. An open concept design with an adjoining family room centered around a grand fireplace with built-in cabinetry.  Double doors lead to the secluded pool and spa with plenty of sunshine as well as shade from the majestic oaks and a retractable awning. The primary bedroom suite has its own fireplace large picture windows looking out to the pool a generous bath and a walk-in closet. Attached is a bonus office space with a full bath and its own exterior entrance. The bedroom wing includes a second ensuite 2 bedrooms and a hall bath. Three car garage add driveway.   \n",
       "21849                                                                                                                                                                                                                                                                                                                                                                \"Amazing Orinda villa that offers total privacy and seclusion and yet close to downtown and only a 16 minute drive away from the best San Francisco has to offer! Walk in Apartment with possible bedroom and Full Bath Three Full Bedrooms with Three full Baths Upstairs Second Apartment with Full Bath and its Own entrance and living area walk-in closet bedroom and possible kitchen and Full Bath. Majestic heated pool with waterfalls  with covered entertaining area...All Behind an electric gate in almost an acre with a long driveway! Virtually enhanced by our contractor property can be delivered painted to new owners at close of escrow!\"   \n",
       "23322      Designed by famed architect John Hudson Thomas for John F. Conners who at the time was the managing editor of the Oakland Tribune. This home has heart & soul w/ its stately living room accented w/ crisp white walls a hammered copper fireplace hood bold redwood beams baseboards & woodwork. French doors lead into the formal dining room w/ a striking fireplace & handsome floor-to-ceiling windows overlooking a Norfolk Pine tree. The indoor-outdoor ambience flows to the ample front balcony that stretches across the entire front of the home offering views of charming Crocker Highlands & the western skyline. An impressive main staircase leads you to 3 large bedrooms all on the same level with fireplaces & western-facing windows with bay views. Luxurious primary en-suite w/ balcony & lavish bathroom. Eat-in kitchen offers a Viking range wall of windows & French door to private deck. Au-pair detached carriage studio gardens & fully fenced in. Live in an architectural masterpiece.   \n",
       "\n",
       "       livingAreaValue  bathrooms  bedrooms  parking  garageSpaces levels  \\\n",
       "17618            734.0        1.0       1.0        1           1.0  Other   \n",
       "32639           1512.0        2.0       4.0        0           0.0  Other   \n",
       "16592           1145.0        2.0       2.0        0           0.0  Other   \n",
       "16747           1326.0        2.0       3.0        0           0.0  Other   \n",
       "13194           1950.0        2.0       3.0        1           1.0  Other   \n",
       "30462           2792.0        3.0       5.0        1           2.0  Other   \n",
       "3126            3129.0        5.0       4.0        1           3.0  Other   \n",
       "21849           5067.0        8.0       5.0        1           3.0  Other   \n",
       "23322           7142.0        6.0       6.0        0           0.0  Other   \n",
       "\n",
       "       pool  spa  isNewConstruction  hasPetsAllowed month  \n",
       "17618     0    0                  0               0     4  \n",
       "32639     0    0                  0               0     6  \n",
       "16592     0    0                  0               0     7  \n",
       "16747     0    0                  0               0     7  \n",
       "13194     0    0                  0               0     3  \n",
       "30462     1    1                  0               1     7  \n",
       "3126      1    1                  0               0     6  \n",
       "21849     1    1                  0               0     6  \n",
       "23322     0    1                  0               0     6  "
      ]
     },
     "execution_count": 45,
     "metadata": {},
     "output_type": "execute_result"
    }
   ],
   "source": [
    "#print records with 'levels'='Other' in ascending order of 'price'\n",
    "df.loc[df['levels'] == 'Other'].sort_values('price')"
   ]
  },
  {
   "cell_type": "markdown",
   "metadata": {},
   "source": [
    "##### It does not look like the 'Other' value can be consolidated into another 'levels' value since the types and prices of homes vary quite a bit."
   ]
  },
  {
   "cell_type": "code",
   "execution_count": 46,
   "metadata": {},
   "outputs": [
    {
     "data": {
      "text/plain": [
       "levels\n",
       "Multi/Split      846\n",
       "One            13952\n",
       "Other              9\n",
       "Two             4421\n",
       "Name: count, dtype: int64"
      ]
     },
     "execution_count": 46,
     "metadata": {},
     "output_type": "execute_result"
    }
   ],
   "source": [
    "df['levels'].value_counts().sort_index()"
   ]
  },
  {
   "cell_type": "markdown",
   "metadata": {},
   "source": [
    "#### Analysis checkpoint 9 (levels):\n",
    "<pre>\n",
    " 0   sequence            35389 non-null  int64    x   Drop column\n",
    " 1   id                  35389 non-null  object   x   Drop column\n",
    " 2   stateId             35389 non-null  int64    x   Drop column\n",
    " 3   countyId            35389 non-null  int64    x   Retain as-is\n",
    " 4   cityId              35389 non-null  int64    x   Retain as-is\n",
    " 5   country             35389 non-null  object   x   Drop column\n",
    " 6   datePostedString    35386 non-null  object   x   Drop all records older than '2021-01-01', then drop this column\n",
    " 7   is_bankOwned        35389 non-null  int64    x   Drop records where value is 1 then drop this column\n",
    " 8   is_forAuction       35389 non-null  int64    x   Drop records where value is 1 then drop this column\n",
    " 9   event               35100 non-null  object   x   Drop records where 'event'='Listing removed' OR 'event'='Listed for rent'\n",
    " 10  time                35100 non-null  float64  x   Drop column\n",
    " 11  price               35389 non-null  float64  x   Drop records where price=0\n",
    " 12  pricePerSquareFoot  35389 non-null  float64\n",
    " 13  city                35389 non-null  object   x   Drop column\n",
    " 14  state               35389 non-null  object   x   Drop column\n",
    " 15  yearBuilt           35389 non-null  int64  \n",
    " 16  streetAddress       35388 non-null  object   x   Drop column\n",
    " 17  zipcode             35364 non-null  float64\n",
    " 18  longitude           35389 non-null  float64  x   Drop column\n",
    " 19  latitude            35389 non-null  float64  x   Drop column\n",
    " 20  hasBadGeocode       35389 non-null  int64    x   Drop column\n",
    " 21  description         35110 non-null  object   x   Drop column\n",
    " 22  currency            35389 non-null  object   x   Drop column\n",
    " 23  livingArea          35389 non-null  float64  x   Drop column\n",
    " 24  livingAreaValue     35389 non-null  float64  x   Drop records where livingAreaValue=0\n",
    " 25  lotAreaUnits        35389 non-null  object   x   Drop column\n",
    " 26  bathrooms           35389 non-null  float64  x   Drop records where bathrooms=0\n",
    " 27  bedrooms            35389 non-null  float64  x   Drop records where bedrooms=0\n",
    " 28  buildingArea        35389 non-null  float64  x   Drop column\n",
    " 29  parking             35389 non-null  int64    x   Retain as-is\n",
    " 30  garageSpaces        35389 non-null  float64  x   Retain records that have (df['garageSpaces'] > 0) | (df['hasGarage'] == 0) and  (df['garageSpaces'] == 0) | (df['hasGarage'] > 0), then drop 'hasGarage' column\n",
    " 31  hasGarage           35389 non-null  int64    x   (review comment for 'garageSpaces' column)\n",
    " 32  levels              35389 non-null  object   x   (See comment at the base of this cell)\n",
    " 33  pool                35389 non-null  int64  \n",
    " 34  spa                 35389 non-null  int64  \n",
    " 35  isNewConstruction   35389 non-null  int64  \n",
    " 36  hasPetsAllowed      35389 non-null  int64  \n",
    " 37  homeType            35389 non-null  object   x   Retain records where 'homeType'='SINGLE_FAMILY' and then drop this column \n",
    " 38  county              35389 non-null  object   x   Drop column\n",
    " </pre>\n",
    "\n",
    "Update the values in the 'levels' such that:\n",
    "- '0', '1', 'One Story', 'One Story-One' = 'One'\n",
    "- '2', 'Two Story', 'Two Story-One', 'Two Story-Two',  'Two-One' = 'Two'\n",
    "- '3', '4+', 'Three', 'Three Or More', 'Multi/Split-One', 'Multi/Split-Three Or More', 'Multi/Split-Tri-Level', 'Multi/Split-Two, 'One-Multi/Split', 'One-Three Or More', 'One-Two', 'One-Two-Multi/Split', 'One-Two-Three Or More', 'Split Level', 'Three Or More-Multi/Split', 'Three Or More-Two', 'Three or More Stories', 'Three or More Stories-One-Two', 'Three or More Stories-Three Or More', 'Tri-Level',  'Two-Multi/Split', 'Two-Three Or More' = 'Multi/Split'\n"
   ]
  },
  {
   "cell_type": "code",
   "execution_count": 47,
   "metadata": {},
   "outputs": [
    {
     "name": "stdout",
     "output_type": "stream",
     "text": [
      "<class 'pandas.core.frame.DataFrame'>\n",
      "Index: 19228 entries, 1 to 35388\n",
      "Data columns (total 19 columns):\n",
      " #   Column              Non-Null Count  Dtype  \n",
      "---  ------              --------------  -----  \n",
      " 0   countyId            19228 non-null  int64  \n",
      " 1   cityId              19228 non-null  int64  \n",
      " 2   event               19228 non-null  object \n",
      " 3   price               19228 non-null  float64\n",
      " 4   pricePerSquareFoot  19228 non-null  float64\n",
      " 5   yearBuilt           19228 non-null  int64  \n",
      " 6   zipcode             19228 non-null  float64\n",
      " 7   description         19130 non-null  object \n",
      " 8   livingAreaValue     19228 non-null  float64\n",
      " 9   bathrooms           19228 non-null  float64\n",
      " 10  bedrooms            19228 non-null  float64\n",
      " 11  parking             19228 non-null  int64  \n",
      " 12  garageSpaces        19228 non-null  float64\n",
      " 13  levels              19228 non-null  object \n",
      " 14  pool                19228 non-null  int64  \n",
      " 15  spa                 19228 non-null  int64  \n",
      " 16  isNewConstruction   19228 non-null  int64  \n",
      " 17  hasPetsAllowed      19228 non-null  int64  \n",
      " 18  month               19228 non-null  object \n",
      "dtypes: float64(7), int64(8), object(4)\n",
      "memory usage: 2.9+ MB\n"
     ]
    }
   ],
   "source": [
    "df.info()"
   ]
  },
  {
   "cell_type": "markdown",
   "metadata": {},
   "source": [
    "##### Analyze 'pool', 'spa', 'isNewConstruction' and 'hasPetsAllowed' columns"
   ]
  },
  {
   "cell_type": "code",
   "execution_count": 48,
   "metadata": {},
   "outputs": [
    {
     "data": {
      "text/plain": [
       "pool\n",
       "0    16081\n",
       "1     3147\n",
       "Name: count, dtype: int64"
      ]
     },
     "execution_count": 48,
     "metadata": {},
     "output_type": "execute_result"
    }
   ],
   "source": [
    "#analyze 'pool' column\n",
    "df['pool'].value_counts()"
   ]
  },
  {
   "cell_type": "code",
   "execution_count": 49,
   "metadata": {},
   "outputs": [
    {
     "data": {
      "text/plain": [
       "spa\n",
       "0    15391\n",
       "1     3837\n",
       "Name: count, dtype: int64"
      ]
     },
     "execution_count": 49,
     "metadata": {},
     "output_type": "execute_result"
    }
   ],
   "source": [
    "#analyze 'spa' column\n",
    "df['spa'].value_counts()"
   ]
  },
  {
   "cell_type": "code",
   "execution_count": 50,
   "metadata": {},
   "outputs": [
    {
     "data": {
      "text/plain": [
       "isNewConstruction\n",
       "0    18959\n",
       "1      269\n",
       "Name: count, dtype: int64"
      ]
     },
     "execution_count": 50,
     "metadata": {},
     "output_type": "execute_result"
    }
   ],
   "source": [
    "#analyze 'isNewConstruction' column\n",
    "df['isNewConstruction'].value_counts()"
   ]
  },
  {
   "cell_type": "code",
   "execution_count": 51,
   "metadata": {},
   "outputs": [
    {
     "data": {
      "text/plain": [
       "hasPetsAllowed\n",
       "0    18972\n",
       "1      256\n",
       "Name: count, dtype: int64"
      ]
     },
     "execution_count": 51,
     "metadata": {},
     "output_type": "execute_result"
    }
   ],
   "source": [
    "#analyze 'hasPetsAllowed' column\n",
    "df['hasPetsAllowed'].value_counts()"
   ]
  },
  {
   "cell_type": "markdown",
   "metadata": {},
   "source": [
    "##### Since the number of records where 'hasPetsAllowed' is so low (and it seems counter to the fact no permission is needed for pets when you own a single family home in California), this column can be dropped as '0' in this case indicates that it has not been properly filled."
   ]
  },
  {
   "cell_type": "code",
   "execution_count": 52,
   "metadata": {},
   "outputs": [],
   "source": [
    "#drop 'hasPetsAllowed' column\n",
    "df.drop('hasPetsAllowed', axis=1, inplace=True)"
   ]
  },
  {
   "cell_type": "markdown",
   "metadata": {},
   "source": [
    "#### Analysis checkpoint 10 ('pool', 'spa', 'isNewConstruction' and 'hasPetsAllowed' columns):\n",
    "<pre>\n",
    " 0   sequence            35389 non-null  int64    x   Drop column\n",
    " 1   id                  35389 non-null  object   x   Drop column\n",
    " 2   stateId             35389 non-null  int64    x   Drop column\n",
    " 3   countyId            35389 non-null  int64    x   Retain as-is\n",
    " 4   cityId              35389 non-null  int64    x   Retain as-is\n",
    " 5   country             35389 non-null  object   x   Drop column\n",
    " 6   datePostedString    35386 non-null  object   x   Drop all records older than '2021-01-01', then drop this column\n",
    " 7   is_bankOwned        35389 non-null  int64    x   Drop records where value is 1 then drop this column\n",
    " 8   is_forAuction       35389 non-null  int64    x   Drop records where value is 1 then drop this column\n",
    " 9   event               35100 non-null  object   x   Drop records where 'event'='Listing removed' OR 'event'='Listed for rent'\n",
    " 10  time                35100 non-null  float64  x   Drop column\n",
    " 11  price               35389 non-null  float64  x   Drop records where price=0\n",
    " 12  pricePerSquareFoot  35389 non-null  float64\n",
    " 13  city                35389 non-null  object   x   Drop column\n",
    " 14  state               35389 non-null  object   x   Drop column\n",
    " 15  yearBuilt           35389 non-null  int64  \n",
    " 16  streetAddress       35388 non-null  object   x   Drop column\n",
    " 17  zipcode             35364 non-null  float64\n",
    " 18  longitude           35389 non-null  float64  x   Drop column\n",
    " 19  latitude            35389 non-null  float64  x   Drop column\n",
    " 20  hasBadGeocode       35389 non-null  int64    x   Drop column\n",
    " 21  description         35110 non-null  object   x   Drop column\n",
    " 22  currency            35389 non-null  object   x   Drop column\n",
    " 23  livingArea          35389 non-null  float64  x   Drop column\n",
    " 24  livingAreaValue     35389 non-null  float64  x   Drop records where livingAreaValue=0\n",
    " 25  lotAreaUnits        35389 non-null  object   x   Drop column\n",
    " 26  bathrooms           35389 non-null  float64  x   Drop records where bathrooms=0\n",
    " 27  bedrooms            35389 non-null  float64  x   Drop records where bedrooms=0\n",
    " 28  buildingArea        35389 non-null  float64  x   Drop column\n",
    " 29  parking             35389 non-null  int64    x   Retain as-is\n",
    " 30  garageSpaces        35389 non-null  float64  x   Retain records that have (df['garageSpaces'] > 0) | (df['hasGarage'] == 0) and  (df['garageSpaces'] == 0) | (df['hasGarage'] > 0), then drop 'hasGarage' column\n",
    " 31  hasGarage           35389 non-null  int64    x   (review comment for 'garageSpaces' column)\n",
    " 32  levels              35389 non-null  object   x   (See comment at the base of this cell)\n",
    " 33  pool                35389 non-null  int64    x   Retain as-is\n",
    " 34  spa                 35389 non-null  int64    x   Retain as-is  \n",
    " 35  isNewConstruction   35389 non-null  int64    x   Retain as-is    \n",
    " 36  hasPetsAllowed      35389 non-null  int64    x   Drop column  \n",
    " 37  homeType            35389 non-null  object   x   Retain records where 'homeType'='SINGLE_FAMILY' and then drop this column \n",
    " 38  county              35389 non-null  object   x   Drop column\n",
    " </pre>\n",
    "\n",
    "Update the values in the 'levels' such that:\n",
    "- '0', '1', 'One Story', 'One Story-One' = 'One'\n",
    "- '2', 'Two Story', 'Two Story-One', 'Two Story-Two',  'Two-One' = 'Two'\n",
    "- '3', '4+', 'Three', 'Three Or More', 'Multi/Split-One', 'Multi/Split-Three Or More', 'Multi/Split-Tri-Level', 'Multi/Split-Two, 'One-Multi/Split', 'One-Three Or More', 'One-Two', 'One-Two-Multi/Split', 'One-Two-Three Or More', 'Split Level', 'Three Or More-Multi/Split', 'Three Or More-Two', 'Three or More Stories', 'Three or More Stories-One-Two', 'Three or More Stories-Three Or More', 'Tri-Level',  'Two-Multi/Split', 'Two-Three Or More' = 'Multi/Split'\n"
   ]
  },
  {
   "cell_type": "code",
   "execution_count": 53,
   "metadata": {},
   "outputs": [
    {
     "name": "stdout",
     "output_type": "stream",
     "text": [
      "<class 'pandas.core.frame.DataFrame'>\n",
      "Index: 19228 entries, 1 to 35388\n",
      "Data columns (total 18 columns):\n",
      " #   Column              Non-Null Count  Dtype  \n",
      "---  ------              --------------  -----  \n",
      " 0   countyId            19228 non-null  int64  \n",
      " 1   cityId              19228 non-null  int64  \n",
      " 2   event               19228 non-null  object \n",
      " 3   price               19228 non-null  float64\n",
      " 4   pricePerSquareFoot  19228 non-null  float64\n",
      " 5   yearBuilt           19228 non-null  int64  \n",
      " 6   zipcode             19228 non-null  float64\n",
      " 7   description         19130 non-null  object \n",
      " 8   livingAreaValue     19228 non-null  float64\n",
      " 9   bathrooms           19228 non-null  float64\n",
      " 10  bedrooms            19228 non-null  float64\n",
      " 11  parking             19228 non-null  int64  \n",
      " 12  garageSpaces        19228 non-null  float64\n",
      " 13  levels              19228 non-null  object \n",
      " 14  pool                19228 non-null  int64  \n",
      " 15  spa                 19228 non-null  int64  \n",
      " 16  isNewConstruction   19228 non-null  int64  \n",
      " 17  month               19228 non-null  object \n",
      "dtypes: float64(7), int64(7), object(4)\n",
      "memory usage: 2.8+ MB\n"
     ]
    }
   ],
   "source": [
    "df.info()"
   ]
  },
  {
   "cell_type": "code",
   "execution_count": 54,
   "metadata": {},
   "outputs": [
    {
     "name": "stdout",
     "output_type": "stream",
     "text": [
      "Number of missing zip codes: 0\n"
     ]
    }
   ],
   "source": [
    "# Count missing values in 'zipcode'\n",
    "missing_zipcodes = df['zipcode'].isnull().sum()\n",
    "\n",
    "print(f\"Number of missing zip codes: {missing_zipcodes}\")"
   ]
  },
  {
   "cell_type": "markdown",
   "metadata": {},
   "source": [
    "#### Convert columns to categorical if they are not meant to be numeric (like countyId, cityId, yearBuilt, zipcode)"
   ]
  },
  {
   "cell_type": "code",
   "execution_count": 55,
   "metadata": {},
   "outputs": [],
   "source": [
    "#Convert numerical columns to categorical columns since they are not continuous: countyId, cityId, yearBuilt, zipcode\n",
    "# df['countyId'] = df['countyId'].astype('object')\n",
    "# df['cityId'] = df['cityId'].astype('object')\n",
    "df['zipcode'] = df['zipcode'].astype('object')\n",
    "\n",
    "df['yearBuilt'] = df['yearBuilt'].astype('object')\n"
   ]
  },
  {
   "cell_type": "code",
   "execution_count": 56,
   "metadata": {},
   "outputs": [],
   "source": [
    "#Drop countyId and cityId columns since we have zipcode column which is more useful\n",
    "df.drop(['countyId', 'cityId'], axis=1, inplace=True)"
   ]
  },
  {
   "cell_type": "markdown",
   "metadata": {},
   "source": [
    "#### Convert binary integer columns to bool values"
   ]
  },
  {
   "cell_type": "code",
   "execution_count": 57,
   "metadata": {},
   "outputs": [],
   "source": [
    "# Ensure columns are initially of integer type (0/1)\n",
    "df['parking'] = df['parking'].astype(int)\n",
    "df['pool'] = df['pool'].astype(int)\n",
    "df['spa'] = df['spa'].astype(int)\n",
    "df['isNewConstruction'] = df['isNewConstruction'].astype(int)\n",
    "\n",
    "# Convert integer columns to boolean (True/False)\n",
    "df['parking'] = df['parking'].astype(bool)\n",
    "df['pool'] = df['pool'].astype(bool)\n",
    "df['spa'] = df['spa'].astype(bool)\n",
    "df['isNewConstruction'] = df['isNewConstruction'].astype(bool)"
   ]
  },
  {
   "cell_type": "code",
   "execution_count": 58,
   "metadata": {},
   "outputs": [
    {
     "name": "stdout",
     "output_type": "stream",
     "text": [
      "<class 'pandas.core.frame.DataFrame'>\n",
      "Index: 19228 entries, 1 to 35388\n",
      "Data columns (total 16 columns):\n",
      " #   Column              Non-Null Count  Dtype  \n",
      "---  ------              --------------  -----  \n",
      " 0   event               19228 non-null  object \n",
      " 1   price               19228 non-null  float64\n",
      " 2   pricePerSquareFoot  19228 non-null  float64\n",
      " 3   yearBuilt           19228 non-null  object \n",
      " 4   zipcode             19228 non-null  object \n",
      " 5   description         19130 non-null  object \n",
      " 6   livingAreaValue     19228 non-null  float64\n",
      " 7   bathrooms           19228 non-null  float64\n",
      " 8   bedrooms            19228 non-null  float64\n",
      " 9   parking             19228 non-null  bool   \n",
      " 10  garageSpaces        19228 non-null  float64\n",
      " 11  levels              19228 non-null  object \n",
      " 12  pool                19228 non-null  bool   \n",
      " 13  spa                 19228 non-null  bool   \n",
      " 14  isNewConstruction   19228 non-null  bool   \n",
      " 15  month               19228 non-null  object \n",
      "dtypes: bool(4), float64(6), object(6)\n",
      "memory usage: 2.0+ MB\n"
     ]
    }
   ],
   "source": [
    "df.info()"
   ]
  },
  {
   "cell_type": "markdown",
   "metadata": {},
   "source": [
    "#### Analysis checkpoint 11 (Drop: 'countyId', 'cityId'; Convert to categorical columns: 'yearBuilt', 'zipcode'; Convert 'parking', 'pool', 'spa', 'isNewConstruction' to bool):\n",
    "<pre>\n",
    " 0   sequence            35389 non-null  int64    x   Drop column\n",
    " 1   id                  35389 non-null  object   x   Drop column\n",
    " 2   stateId             35389 non-null  int64    x   Drop column\n",
    " 3   countyId            35389 non-null  int64    x   Drop column\n",
    " 4   cityId              35389 non-null  int64    x   Drop column\n",
    " 5   country             35389 non-null  object   x   Drop column\n",
    " 6   datePostedString    35386 non-null  object   x   Drop all records older than '2021-01-01', then drop this column\n",
    " 7   is_bankOwned        35389 non-null  int64    x   Drop records where value is 1 then drop this column\n",
    " 8   is_forAuction       35389 non-null  int64    x   Drop records where value is 1 then drop this column\n",
    " 9   event               35100 non-null  object   x   Drop records where 'event'='Listing removed' OR 'event'='Listed for rent'\n",
    " 10  time                35100 non-null  float64  x   Drop column\n",
    " 11  price               35389 non-null  float64  x   Drop records where price=0\n",
    " 12  pricePerSquareFoot  35389 non-null  float64  \n",
    " 13  city                35389 non-null  object   x   Drop column\n",
    " 14  state               35389 non-null  object   x   Drop column\n",
    " 15  yearBuilt           35389 non-null  int64    x   Convert to categorical column\n",
    " 16  streetAddress       35388 non-null  object   x   Drop column\n",
    " 17  zipcode             35364 non-null  float64  x   Convert to categorical column\n",
    " 18  longitude           35389 non-null  float64  x   Drop column\n",
    " 19  latitude            35389 non-null  float64  x   Drop column\n",
    " 20  hasBadGeocode       35389 non-null  int64    x   Drop column\n",
    " 21  description         35110 non-null  object   x   Drop column\n",
    " 22  currency            35389 non-null  object   x   Drop column\n",
    " 23  livingArea          35389 non-null  float64  x   Drop column\n",
    " 24  livingAreaValue     35389 non-null  float64  x   Drop records where livingAreaValue=0\n",
    " 25  lotAreaUnits        35389 non-null  object   x   Drop column\n",
    " 26  bathrooms           35389 non-null  float64  x   Drop records where bathrooms=0\n",
    " 27  bedrooms            35389 non-null  float64  x   Drop records where bedrooms=0\n",
    " 28  buildingArea        35389 non-null  float64  x   Drop column\n",
    " 29  parking             35389 non-null  int64    x   Convert to bool\n",
    " 30  garageSpaces        35389 non-null  float64  x   Retain records that have (df['garageSpaces'] > 0) | (df['hasGarage'] == 0) and  (df['garageSpaces'] == 0) | (df['hasGarage'] > 0), then drop 'hasGarage' column\n",
    " 31  hasGarage           35389 non-null  int64    x   (review comment for 'garageSpaces' column)\n",
    " 32  levels              35389 non-null  object   x   (See comment at the base of this cell)\n",
    " 33  pool                35389 non-null  int64    x   Convert to bool\n",
    " 34  spa                 35389 non-null  int64    x   Convert to bool\n",
    " 35  isNewConstruction   35389 non-null  int64    x   Convert to bool\n",
    " 36  hasPetsAllowed      35389 non-null  int64    x   Drop column  \n",
    " 37  homeType            35389 non-null  object   x   Retain records where 'homeType'='SINGLE_FAMILY' and then drop this column \n",
    " 38  county              35389 non-null  object   x   Drop column\n",
    " </pre>\n",
    "\n",
    "Update the values in the 'levels' such that:\n",
    "- '0', '1', 'One Story', 'One Story-One' = 'One'\n",
    "- '2', 'Two Story', 'Two Story-One', 'Two Story-Two',  'Two-One' = 'Two'\n",
    "- '3', '4+', 'Three', 'Three Or More', 'Multi/Split-One', 'Multi/Split-Three Or More', 'Multi/Split-Tri-Level', 'Multi/Split-Two, 'One-Multi/Split', 'One-Three Or More', 'One-Two', 'One-Two-Multi/Split', 'One-Two-Three Or More', 'Split Level', 'Three Or More-Multi/Split', 'Three Or More-Two', 'Three or More Stories', 'Three or More Stories-One-Two', 'Three or More Stories-Three Or More', 'Tri-Level',  'Two-Multi/Split', 'Two-Three Or More' = 'Multi/Split'\n"
   ]
  },
  {
   "cell_type": "markdown",
   "metadata": {},
   "source": [
    "#### Analyze 'description'\n",
    "We will use description for performing property description analysis using NLP."
   ]
  },
  {
   "cell_type": "code",
   "execution_count": 59,
   "metadata": {},
   "outputs": [
    {
     "name": "stdout",
     "output_type": "stream",
     "text": [
      "Number of missing descriptions: 98\n"
     ]
    }
   ],
   "source": [
    "#Identify the number of records with null values for description column\n",
    "missing_description = df['description'].isnull().sum()\n",
    "print(f\"Number of missing descriptions: {missing_description}\")"
   ]
  },
  {
   "cell_type": "code",
   "execution_count": 60,
   "metadata": {},
   "outputs": [],
   "source": [
    "#drop the records with missing description\n",
    "df = df.dropna(subset=['description'])"
   ]
  },
  {
   "cell_type": "code",
   "execution_count": 61,
   "metadata": {},
   "outputs": [
    {
     "name": "stdout",
     "output_type": "stream",
     "text": [
      "<class 'pandas.core.frame.DataFrame'>\n",
      "Index: 19130 entries, 1 to 35388\n",
      "Data columns (total 16 columns):\n",
      " #   Column              Non-Null Count  Dtype  \n",
      "---  ------              --------------  -----  \n",
      " 0   event               19130 non-null  object \n",
      " 1   price               19130 non-null  float64\n",
      " 2   pricePerSquareFoot  19130 non-null  float64\n",
      " 3   yearBuilt           19130 non-null  object \n",
      " 4   zipcode             19130 non-null  object \n",
      " 5   description         19130 non-null  object \n",
      " 6   livingAreaValue     19130 non-null  float64\n",
      " 7   bathrooms           19130 non-null  float64\n",
      " 8   bedrooms            19130 non-null  float64\n",
      " 9   parking             19130 non-null  bool   \n",
      " 10  garageSpaces        19130 non-null  float64\n",
      " 11  levels              19130 non-null  object \n",
      " 12  pool                19130 non-null  bool   \n",
      " 13  spa                 19130 non-null  bool   \n",
      " 14  isNewConstruction   19130 non-null  bool   \n",
      " 15  month               19130 non-null  object \n",
      "dtypes: bool(4), float64(6), object(6)\n",
      "memory usage: 2.0+ MB\n"
     ]
    }
   ],
   "source": [
    "df.info()"
   ]
  },
  {
   "cell_type": "markdown",
   "metadata": {},
   "source": [
    "#### Analyze \"pricePerSquareFoot\""
   ]
  },
  {
   "cell_type": "code",
   "execution_count": 62,
   "metadata": {},
   "outputs": [
    {
     "data": {
      "text/html": [
       "<div>\n",
       "<style scoped>\n",
       "    .dataframe tbody tr th:only-of-type {\n",
       "        vertical-align: middle;\n",
       "    }\n",
       "\n",
       "    .dataframe tbody tr th {\n",
       "        vertical-align: top;\n",
       "    }\n",
       "\n",
       "    .dataframe thead th {\n",
       "        text-align: right;\n",
       "    }\n",
       "</style>\n",
       "<table border=\"1\" class=\"dataframe\">\n",
       "  <thead>\n",
       "    <tr style=\"text-align: right;\">\n",
       "      <th></th>\n",
       "      <th>price</th>\n",
       "      <th>pricePerSquareFoot</th>\n",
       "    </tr>\n",
       "  </thead>\n",
       "  <tbody>\n",
       "    <tr>\n",
       "      <th>price</th>\n",
       "      <td>1.000000</td>\n",
       "      <td>0.018704</td>\n",
       "    </tr>\n",
       "    <tr>\n",
       "      <th>pricePerSquareFoot</th>\n",
       "      <td>0.018704</td>\n",
       "      <td>1.000000</td>\n",
       "    </tr>\n",
       "  </tbody>\n",
       "</table>\n",
       "</div>"
      ],
      "text/plain": [
       "                       price  pricePerSquareFoot\n",
       "price               1.000000            0.018704\n",
       "pricePerSquareFoot  0.018704            1.000000"
      ]
     },
     "execution_count": 62,
     "metadata": {},
     "output_type": "execute_result"
    }
   ],
   "source": [
    "#Perform correlation analysis on pricePerSquareFoot and price\n",
    "df[['price', 'pricePerSquareFoot']].corr()"
   ]
  },
  {
   "cell_type": "markdown",
   "metadata": {},
   "source": [
    "##### The correlation coefficient between price and pricePerSquareFoot of 0.018741 indicates a very weak positive correlation. This means there's almost no linear relationship between the two variables.\n",
    "\n",
    "As such, I am going to exclude pricePerSquareFoot from the ML model for these reasons:\n",
    "1. Redundancy: The information contained in pricePerSquareFoot is already captured by livingArea and price. pricePerSquareFoot is simply calculated from these two.\n",
    "2. Potential for Bias: Including pricePerSquareFoot might introduce bias into the model, particularly if the dataset contains outliers or unusual pricing practices.\n",
    "3. Model Complexity: Adding an unnecessary feature increases model complexity and can make it harder to interpret."
   ]
  },
  {
   "cell_type": "code",
   "execution_count": 63,
   "metadata": {},
   "outputs": [],
   "source": [
    "#drop 'pricePerSquareFoot' column since it has a weak correlation with 'price'\n",
    "df.drop('pricePerSquareFoot', axis=1, inplace=True)"
   ]
  },
  {
   "cell_type": "markdown",
   "metadata": {},
   "source": [
    "#### Analysis checkpoint 12 (pricePerSquareFoot):\n",
    "<pre>\n",
    " 0   sequence            35389 non-null  int64    x   Drop column\n",
    " 1   id                  35389 non-null  object   x   Drop column\n",
    " 2   stateId             35389 non-null  int64    x   Drop column\n",
    " 3   countyId            35389 non-null  int64    x   Drop column\n",
    " 4   cityId              35389 non-null  int64    x   Drop column\n",
    " 5   country             35389 non-null  object   x   Drop column\n",
    " 6   datePostedString    35386 non-null  object   x   Drop all records older than '2021-01-01', then drop this column\n",
    " 7   is_bankOwned        35389 non-null  int64    x   Drop records where value is 1 then drop this column\n",
    " 8   is_forAuction       35389 non-null  int64    x   Drop records where value is 1 then drop this column\n",
    " 9   event               35100 non-null  object   x   Drop records where 'event'='Listing removed' OR 'event'='Listed for rent'\n",
    " 10  time                35100 non-null  float64  x   Drop column\n",
    " 11  price               35389 non-null  float64  x   Drop records where price=0\n",
    " 12  pricePerSquareFoot  35389 non-null  float64  x   Drop this column because of a very weak correlation with price.\n",
    " 13  city                35389 non-null  object   x   Drop column\n",
    " 14  state               35389 non-null  object   x   Drop column\n",
    " 15  yearBuilt           35389 non-null  int64    x   Convert to categorical column\n",
    " 16  streetAddress       35388 non-null  object   x   Drop column\n",
    " 17  zipcode             35364 non-null  float64  x   Convert to categorical column\n",
    " 18  longitude           35389 non-null  float64  x   Drop column\n",
    " 19  latitude            35389 non-null  float64  x   Drop column\n",
    " 20  hasBadGeocode       35389 non-null  int64    x   Drop column\n",
    " 21  description         35110 non-null  object   x   Retain as-is.\n",
    " 22  currency            35389 non-null  object   x   Drop column\n",
    " 23  livingArea          35389 non-null  float64  x   Drop column\n",
    " 24  livingAreaValue     35389 non-null  float64  x   Drop records where livingAreaValue=0\n",
    " 25  lotAreaUnits        35389 non-null  object   x   Drop column\n",
    " 26  bathrooms           35389 non-null  float64  x   Drop records where bathrooms=0\n",
    " 27  bedrooms            35389 non-null  float64  x   Drop records where bedrooms=0\n",
    " 28  buildingArea        35389 non-null  float64  x   Drop column\n",
    " 29  parking             35389 non-null  int64    x   Convert to bool\n",
    " 30  garageSpaces        35389 non-null  float64  x   Retain records that have (df['garageSpaces'] > 0) | (df['hasGarage'] == 0) and  (df['garageSpaces'] == 0) | (df['hasGarage'] > 0), then drop 'hasGarage' column\n",
    " 31  hasGarage           35389 non-null  int64    x   (review comment for 'garageSpaces' column)\n",
    " 32  levels              35389 non-null  object   x   (See comment at the base of this cell)\n",
    " 33  pool                35389 non-null  int64    x   Convert to bool\n",
    " 34  spa                 35389 non-null  int64    x   Convert to bool\n",
    " 35  isNewConstruction   35389 non-null  int64    x   Convert to bool \n",
    " 36  hasPetsAllowed      35389 non-null  int64    x   Drop column  \n",
    " 37  homeType            35389 non-null  object   x   Retain records where 'homeType'='SINGLE_FAMILY' and then drop this column \n",
    " 38  county              35389 non-null  object   x   Drop column\n",
    " </pre>\n",
    "\n",
    "Update the values in the 'levels' such that:\n",
    "- '0', '1', 'One Story', 'One Story-One' = 'One'\n",
    "- '2', 'Two Story', 'Two Story-One', 'Two Story-Two',  'Two-One' = 'Two'\n",
    "- '3', '4+', 'Three', 'Three Or More', 'Multi/Split-One', 'Multi/Split-Three Or More', 'Multi/Split-Tri-Level', 'Multi/Split-Two, 'One-Multi/Split', 'One-Three Or More', 'One-Two', 'One-Two-Multi/Split', 'One-Two-Three Or More', 'Split Level', 'Three Or More-Multi/Split', 'Three Or More-Two', 'Three or More Stories', 'Three or More Stories-One-Two', 'Three or More Stories-Three Or More', 'Tri-Level',  'Two-Multi/Split', 'Two-Three Or More' = 'Multi/Split'\n"
   ]
  },
  {
   "cell_type": "markdown",
   "metadata": {},
   "source": [
    "### Final state of dataframe to be used for ML modeling"
   ]
  },
  {
   "cell_type": "code",
   "execution_count": 64,
   "metadata": {},
   "outputs": [
    {
     "name": "stdout",
     "output_type": "stream",
     "text": [
      "<class 'pandas.core.frame.DataFrame'>\n",
      "Index: 19130 entries, 1 to 35388\n",
      "Data columns (total 15 columns):\n",
      " #   Column             Non-Null Count  Dtype  \n",
      "---  ------             --------------  -----  \n",
      " 0   event              19130 non-null  object \n",
      " 1   price              19130 non-null  float64\n",
      " 2   yearBuilt          19130 non-null  object \n",
      " 3   zipcode            19130 non-null  object \n",
      " 4   description        19130 non-null  object \n",
      " 5   livingAreaValue    19130 non-null  float64\n",
      " 6   bathrooms          19130 non-null  float64\n",
      " 7   bedrooms           19130 non-null  float64\n",
      " 8   parking            19130 non-null  bool   \n",
      " 9   garageSpaces       19130 non-null  float64\n",
      " 10  levels             19130 non-null  object \n",
      " 11  pool               19130 non-null  bool   \n",
      " 12  spa                19130 non-null  bool   \n",
      " 13  isNewConstruction  19130 non-null  bool   \n",
      " 14  month              19130 non-null  object \n",
      "dtypes: bool(4), float64(5), object(6)\n",
      "memory usage: 1.8+ MB\n"
     ]
    }
   ],
   "source": [
    "df.info()"
   ]
  },
  {
   "cell_type": "code",
   "execution_count": null,
   "metadata": {},
   "outputs": [],
   "source": []
  }
 ],
 "metadata": {
  "kernelspec": {
   "display_name": "Python 3",
   "language": "python",
   "name": "python3"
  },
  "language_info": {
   "codemirror_mode": {
    "name": "ipython",
    "version": 3
   },
   "file_extension": ".py",
   "mimetype": "text/x-python",
   "name": "python",
   "nbconvert_exporter": "python",
   "pygments_lexer": "ipython3",
   "version": "3.12.3"
  }
 },
 "nbformat": 4,
 "nbformat_minor": 2
}
